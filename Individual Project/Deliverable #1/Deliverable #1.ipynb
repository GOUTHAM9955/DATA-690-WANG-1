{
  "nbformat": 4,
  "nbformat_minor": 0,
  "metadata": {
    "kernelspec": {
      "display_name": "Python 3",
      "language": "python",
      "name": "python3"
    },
    "language_info": {
      "codemirror_mode": {
        "name": "ipython",
        "version": 3
      },
      "file_extension": ".py",
      "mimetype": "text/x-python",
      "name": "python",
      "nbconvert_exporter": "python",
      "pygments_lexer": "ipython3",
      "version": "3.7.4"
    },
    "colab": {
      "name": "Deliverable #1.ipynb",
      "provenance": [],
      "include_colab_link": true
    }
  },
  "cells": [
    {
      "cell_type": "markdown",
      "metadata": {
        "id": "view-in-github",
        "colab_type": "text"
      },
      "source": [
        "<a href=\"https://colab.research.google.com/github/YM53858/DATA-690-WANG/blob/master/Individual%20Project/Deliverable%20%231/Deliverable%20%231.ipynb\" target=\"_parent\"><img src=\"https://colab.research.google.com/assets/colab-badge.svg\" alt=\"Open In Colab\"/></a>"
      ]
    },
    {
      "cell_type": "markdown",
      "metadata": {
        "id": "qHDV-LxcawAk"
      },
      "source": [
        "# Deliverable #1 - "
      ]
    },
    {
      "cell_type": "markdown",
      "metadata": {
        "id": "JxeWDLr8awAk"
      },
      "source": [
        "- **What is your issue of interest (provide sufficient background information)?**"
      ]
    },
    {
      "cell_type": "markdown",
      "metadata": {
        "id": "LqzYxflnawAl"
      },
      "source": [
        "    My research interest for Individual Project is Stoct Market Anlaysis on S&P 500(Standard and Poor’s 500)Index Companies."
      ]
    },
    {
      "cell_type": "markdown",
      "metadata": {
        "id": "rXWMEdwsawAl"
      },
      "source": [
        "- **Why is this issue important to you and/or to others?**"
      ]
    },
    {
      "cell_type": "markdown",
      "metadata": {
        "id": "A8rgfxNHawAm"
      },
      "source": [
        "    I have recently started studying stock market finance data, I am really curious to know about how the Stock Market works and What are the things that investors should be aware of before investing in the companies."
      ]
    },
    {
      "cell_type": "markdown",
      "metadata": {
        "id": "w9h0P_pKawAm"
      },
      "source": [
        "- **What questions do you have in mind and would like to answer?**"
      ]
    },
    {
      "cell_type": "markdown",
      "metadata": {
        "id": "jgHMTd-TawAn"
      },
      "source": [
        "    1. What was the change in price of a specific stock over time?\n",
        "    2. What was the daily return of a specific stock on average?\n",
        "    3. What was the moving average of the various stocks?\n",
        "    4. What was the correlation between different S&P 500 stocks'?\n",
        "    5. How much value do we put at risk by investing in a particular stock?\n",
        "    6. What are the better ways to predict future stock behavior? "
      ]
    },
    {
      "cell_type": "markdown",
      "metadata": {
        "id": "S-y3sYOQawAn"
      },
      "source": [
        "- **Where do you get the data to help answer your questions?**"
      ]
    },
    {
      "cell_type": "markdown",
      "metadata": {
        "id": "hRcVafYVawAn"
      },
      "source": [
        "    Currently I am figuring which is a safe and better way for getting the stock data. So far, these are the ways that I have explored:\n",
        "\n",
        "    1. Using this data scource:'https://datahub.io/core/s-and-p-500/datapackage.json' from the website Datahub.io\n",
        "\n",
        "    2. Reading stock data from Yahoo using Yahoo Finance API. For this we have to use a python library called yfinance.Yahoo Finance API provides access to more than five years of daily OHLC price data. Also, you can get minutes OHLC data for recent days.Using the Yahoo API (without authentication), you are limited to 2,000 requests per hour per IP or up to a total of 48,000 requests a day.\n",
        "\n",
        "    3. Reading past one year Stock Data before current date from Yahoo using pandas_datareader python library's DataReader  "
      ]
    },
    {
      "cell_type": "markdown",
      "metadata": {
        "id": "tyVsohJcawAo"
      },
      "source": [
        "- **What will be your unit of analysis (for example, patient, organization, or country)? Roughly how many units do you expect to analyze?**"
      ]
    },
    {
      "cell_type": "markdown",
      "metadata": {
        "id": "e-VGmY6zawAo"
      },
      "source": [
        "    I am planning to do my analysis on US Stock Market data for Standard and Poor’s 500(S&P 500) Index Companies based on atleast one year stock data till date."
      ]
    },
    {
      "cell_type": "markdown",
      "metadata": {
        "id": "5_NP6fMrawAo"
      },
      "source": [
        "- **What variables/measures do you plan to use in your analysis?**"
      ]
    },
    {
      "cell_type": "markdown",
      "metadata": {
        "id": "9iVR4txzawAp"
      },
      "source": [
        "    I am planning to use these below 6 variable/indicator measures for my analysis:\n",
        "\n",
        "    - Earnings per share (EPS), \n",
        "    - Price to earnings (P/E) ratio, \n",
        "    - Price to earnings ratio to growth ratio (PEG), \n",
        "    - Price to book value ratio (P/B), \n",
        "    - Dividend payout ratio (DPR),  \n",
        "    - Dividend yield\n"
      ]
    },
    {
      "cell_type": "markdown",
      "metadata": {
        "id": "y9jgMYn_awAp"
      },
      "source": [
        "- **What kinds of techniques do you you plan to use (for example, summary statistics, scatter plot, bar chart, chi-squared test)?**"
      ]
    },
    {
      "cell_type": "markdown",
      "metadata": {
        "id": "GK4IxeMfawAq"
      },
      "source": [
        "    I am planning to use Line charts, Bar Charts & Correlation Plots along with summary statstics in my analysis."
      ]
    }
  ]
}