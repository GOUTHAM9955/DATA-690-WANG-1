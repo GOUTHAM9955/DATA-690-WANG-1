{
  "nbformat": 4,
  "nbformat_minor": 0,
  "metadata": {
    "kernelspec": {
      "display_name": "Python 3",
      "language": "python",
      "name": "python3"
    },
    "language_info": {
      "codemirror_mode": {
        "name": "ipython",
        "version": 3
      },
      "file_extension": ".py",
      "mimetype": "text/x-python",
      "name": "python",
      "nbconvert_exporter": "python",
      "pygments_lexer": "ipython3",
      "version": "3.7.4"
    },
    "colab": {
      "name": "Assignment-01.ipynb",
      "provenance": []
    }
  },
  "cells": [
    {
      "cell_type": "markdown",
      "metadata": {
        "id": "-p54RglpyhvM",
        "colab_type": "text"
      },
      "source": [
        "# Assignment 2\n",
        "**Question:** Prompts a user to enter 10 integers. If the user enters anything other than integers, remind her that only integers are allowed and let her retry. Don't allow the user to enter more than 10 or less than 10 integers. Display the 10 integers back to the user at the end. Calculate the following statistics from the 10 integers entered:\n",
        "- Minimum\n",
        "- Maximum\n",
        "- Range\n",
        "- Mean\n",
        "- Variance\n",
        "- Standard Deviation\n"
      ]
    },
    {
      "cell_type": "code",
      "metadata": {
        "id": "4r5tYFMuyhvO",
        "colab_type": "code",
        "colab": {}
      },
      "source": [
        "import statistics # importing this library for calculating Standard deviation,Variance and Mean"
      ],
      "execution_count": null,
      "outputs": []
    },
    {
      "cell_type": "code",
      "metadata": {
        "id": "dTnobh01yhvV",
        "colab_type": "code",
        "colab": {},
        "outputId": "11cf9524-0420-4148-e4fd-0be072587c75"
      },
      "source": [
        "print(\"Please Enter 10 integer numbers\")\n",
        "num_list=[]\n",
        "i=True\n",
        "c=0\n",
        "while i: # This while loop stops when the user enters all 10 integers\n",
        "    try:\n",
        "        num = int(input(\"Enter a integer number: \"))\n",
        "    except ValueError:\n",
        "        print(\"Not an integer! Try again.\")\n",
        "    else:\n",
        "        c+=1\n",
        "        num_list.append(num)\n",
        "    \n",
        "    if c==10:\n",
        "        i=False\n",
        "        print(\"Entered integer numbers are: \"num_list)\n",
        "        print(\"Standard Deviation of Entered list of numbers is % s\" %(statistics.stdev(num_list))) \n",
        "        print(\"Variance of Entered list of numbers is % s\" %(statistics.variance(num_list)))\n",
        "        print(\"Mean of Entered list of numbers is\",statistics.mean(num_list))\n",
        "        print(\"Minimum of Entered list of numbers is\",min(num_list))\n",
        "        print(\"Maximum of Entered list of numbers is\",max(num_list))\n",
        "        print(\"Range of Entered list of numbers is\",(max(num_list)-min(num_list)))\n",
        "\n",
        "            \n"
      ],
      "execution_count": null,
      "outputs": [
        {
          "output_type": "stream",
          "text": [
            "Enter a number:  1\n",
            "Enter a number:  2\n",
            "Enter a number:  3\n",
            "Enter a number:  4\n",
            "Enter a number:  5\n"
          ],
          "name": "stdin"
        },
        {
          "output_type": "stream",
          "text": [
            "[1, 2, 3, 4, 5]\n",
            "Standard Deviation of Entered list of numbers is 1.5811388300841898\n",
            "Variance of Entered list of numbers is 2.5\n",
            "Mean of Entered list of numbers is 3\n",
            "Minimum of Entered list of numbers is 1\n",
            "Maximum of Entered list of numbers is 5\n",
            "Range of Entered list of numbers is 4\n"
          ],
          "name": "stdout"
        }
      ]
    }
  ]
}