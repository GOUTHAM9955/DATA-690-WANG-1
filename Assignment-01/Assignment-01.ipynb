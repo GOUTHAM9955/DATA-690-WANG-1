{
  "nbformat": 4,
  "nbformat_minor": 0,
  "metadata": {
    "kernelspec": {
      "display_name": "Python 3",
      "language": "python",
      "name": "python3"
    },
    "language_info": {
      "codemirror_mode": {
        "name": "ipython",
        "version": 3
      },
      "file_extension": ".py",
      "mimetype": "text/x-python",
      "name": "python",
      "nbconvert_exporter": "python",
      "pygments_lexer": "ipython3",
      "version": "3.7.4"
    },
    "colab": {
      "name": "Assignment-01.ipynb",
      "provenance": []
    }
  },
  "cells": [
    {
      "cell_type": "markdown",
      "metadata": {
        "id": "-1v7GtDl0St8",
        "colab_type": "text"
      },
      "source": [
        "# Assignment 1\n",
        "**Question:** Prompts a user to enter 10 integers. If the user enters anything other than integers, remind her that only integers are allowed and let her retry. Don't allow the user to enter more than 10 or less than 10 integers. Display the 10 integers back to the user at the end. Calculate the following statistics from the 10 integers entered:\n",
        "- Minimum\n",
        "- Maximum\n",
        "- Range\n",
        "- Mean\n",
        "- Variance\n",
        "- Standard Deviation\n"
      ]
    },
    {
      "cell_type": "code",
      "metadata": {
        "id": "Xuv08mRj0St9",
        "colab_type": "code",
        "colab": {}
      },
      "source": [
        "import statistics # importing this library for calculating Standard deviation,Variance and Mean."
      ],
      "execution_count": null,
      "outputs": []
    },
    {
      "cell_type": "code",
      "metadata": {
        "id": "7YLSZ4Pp0St_",
        "colab_type": "code",
        "colab": {},
        "outputId": "c0d14228-8038-4fcf-ae35-56f5d1fdafbb"
      },
      "source": [
        "print(\"Please Enter 10 integer numbers\")\n",
        "num_list=[]\n",
        "i=True\n",
        "c=0\n",
        "while i: # This while loop stops when the user enters all 10 integers\n",
        "    try:\n",
        "        num = int(input(\"Enter a integer number: \"))\n",
        "    except ValueError:\n",
        "        print(\"Not an integer! Try again.\")\n",
        "    else:\n",
        "        c+=1\n",
        "        num_list.append(num)\n",
        "    \n",
        "    if c==10:\n",
        "        i=False\n",
        "        print(\"Entered integer numbers are: \",num_list)\n",
        "        print(\"Standard Deviation of Entered list of numbers is % s\" %(statistics.stdev(num_list))) \n",
        "        print(\"Variance of Entered list of numbers is % s\" %(statistics.variance(num_list)))\n",
        "        print(\"Mean of Entered list of numbers is\",statistics.mean(num_list))\n",
        "        print(\"Minimum of Entered list of numbers is\",min(num_list))\n",
        "        print(\"Maximum of Entered list of numbers is\",max(num_list))\n",
        "        print(\"Range of Entered list of numbers is\",(max(num_list)-min(num_list)))"
      ],
      "execution_count": null,
      "outputs": [
        {
          "output_type": "stream",
          "text": [
            "Please Enter 10 integer numbers\n"
          ],
          "name": "stdout"
        },
        {
          "output_type": "stream",
          "text": [
            "Enter a integer number:  10\n",
            "Enter a integer number:  15\n",
            "Enter a integer number:  20\n",
            "Enter a integer number:  25\n",
            "Enter a integer number:  sdhj\n"
          ],
          "name": "stdin"
        },
        {
          "output_type": "stream",
          "text": [
            "Not an integer! Try again.\n"
          ],
          "name": "stdout"
        },
        {
          "output_type": "stream",
          "text": [
            "Enter a integer number:  30\n",
            "Enter a integer number:  35\n",
            "Enter a integer number:  40\n",
            "Enter a integer number:  45\n",
            "Enter a integer number:  56.6\n"
          ],
          "name": "stdin"
        },
        {
          "output_type": "stream",
          "text": [
            "Not an integer! Try again.\n"
          ],
          "name": "stdout"
        },
        {
          "output_type": "stream",
          "text": [
            "Enter a integer number:  50\n",
            "Enter a integer number:  55\n"
          ],
          "name": "stdin"
        },
        {
          "output_type": "stream",
          "text": [
            "Entered integer numbers are:  [10, 15, 20, 25, 30, 35, 40, 45, 50, 55]\n",
            "Standard Deviation of Entered list of numbers is 15.138251770487457\n",
            "Variance of Entered list of numbers is 229.16666666666666\n",
            "Mean of Entered list of numbers is 32.5\n",
            "Minimum of Entered list of numbers is 10\n",
            "Maximum of Entered list of numbers is 55\n",
            "Range of Entered list of numbers is 45\n"
          ],
          "name": "stdout"
        }
      ]
    },
    {
      "cell_type": "code",
      "metadata": {
        "id": "QOfpkbFA0SuC",
        "colab_type": "code",
        "colab": {}
      },
      "source": [
        ""
      ],
      "execution_count": null,
      "outputs": []
    }
  ]
}