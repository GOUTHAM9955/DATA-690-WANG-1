{
 "cells": [
  {
   "cell_type": "markdown",
   "metadata": {},
   "source": [
    "# Assignment 2\n",
    "**Question:** Prompts a user to enter 10 integers. If the user enters anything other than integers, remind her that only integers are allowed and let her retry. Don't allow the user to enter more than 10 or less than 10 integers. Display the 10 integers back to the user at the end. Calculate the following statistics from the 10 integers entered:\n",
    "- Minimum\n",
    "- Maximum\n",
    "- Range\n",
    "- Mean\n",
    "- Variance\n",
    "- Standard Deviation\n"
   ]
  },
  {
   "cell_type": "code",
   "execution_count": 1,
   "metadata": {},
   "outputs": [
    {
     "name": "stdout",
     "output_type": "stream",
     "text": [
      "Please Enter 10 integer numbers\n"
     ]
    },
    {
     "name": "stdin",
     "output_type": "stream",
     "text": [
      "Enter a integer number:  5\n",
      "Enter a integer number:  10\n",
      "Enter a integer number:  15\n",
      "Enter a integer number:  20\n",
      "Enter a integer number:  25\n",
      "Enter a integer number:  kjhg\n"
     ]
    },
    {
     "name": "stdout",
     "output_type": "stream",
     "text": [
      "Not an integer! Try again.\n"
     ]
    },
    {
     "name": "stdin",
     "output_type": "stream",
     "text": [
      "Enter a integer number:  30\n",
      "Enter a integer number:  35\n",
      "Enter a integer number:  39.9\n"
     ]
    },
    {
     "name": "stdout",
     "output_type": "stream",
     "text": [
      "Not an integer! Try again.\n"
     ]
    },
    {
     "name": "stdin",
     "output_type": "stream",
     "text": [
      "Enter a integer number:  40\n",
      "Enter a integer number:  45\n",
      "Enter a integer number:  50\n"
     ]
    },
    {
     "name": "stdout",
     "output_type": "stream",
     "text": [
      "Entered integer numbers are:  [5, 10, 15, 20, 25, 30, 35, 40, 45, 50]\n",
      "Minimum of Entered list of numbers is 5\n",
      "Maximum of Entered list of numbers is 50\n",
      "Range of Entered list of numbers is 45\n",
      "Standard Deviation of Entered list of numbers is 14.361406616345072\n",
      "Variance of Entered list of numbers is 206.25\n",
      "Mean of Entered list of numbers is 27.5\n"
     ]
    }
   ],
   "source": [
    "print(\"Please Enter 10 integer numbers\")\n",
    "\n",
    "num_list=[] # For storing the entered integer numbers.\n",
    "i=True\n",
    "c=0 # counter variable for storing the count of integers entered by user.\n",
    "\n",
    "while i: # This while loop stops when the user enters all 10 integers\n",
    "    try:\n",
    "        num = int(input(\"Enter a integer number: \"))\n",
    "    except ValueError:\n",
    "        print(\"Not an integer! Try again.\")\n",
    "    else:\n",
    "        c+=1\n",
    "        num_list.append(num)\n",
    "    \n",
    "    if c==10:\n",
    "        i=False\n",
    "\n",
    "        mean = sum(num_list) / len(num_list) # calculating mean\n",
    "        \n",
    "        variance = sum((i - mean) ** 2 for i in num_list) / len(num_list) # calculating variance using a list comprehension\n",
    "        \n",
    "        std_dev = variance**0.5 # calculating standard deviation    \n",
    "        \n",
    "        print(\"Entered integer numbers are: \",num_list)\n",
    "        print(\"Minimum of Entered list of numbers is\",min(num_list))\n",
    "        print(\"Maximum of Entered list of numbers is\",max(num_list))\n",
    "        print(\"Range of Entered list of numbers is\",(max(num_list)-min(num_list)))\n",
    "        print(\"Standard Deviation of Entered list of numbers is\",std_dev) \n",
    "        print(\"Variance of Entered list of numbers is\",variance)\n",
    "        print(\"Mean of Entered list of numbers is\",mean)"
   ]
  },
  {
   "cell_type": "code",
   "execution_count": null,
   "metadata": {},
   "outputs": [],
   "source": []
  }
 ],
 "metadata": {
  "kernelspec": {
   "display_name": "Python 3",
   "language": "python",
   "name": "python3"
  },
  "language_info": {
   "codemirror_mode": {
    "name": "ipython",
    "version": 3
   },
   "file_extension": ".py",
   "mimetype": "text/x-python",
   "name": "python",
   "nbconvert_exporter": "python",
   "pygments_lexer": "ipython3",
   "version": "3.7.4"
  }
 },
 "nbformat": 4,
 "nbformat_minor": 4
}
