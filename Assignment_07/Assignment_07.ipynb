{
  "nbformat": 4,
  "nbformat_minor": 0,
  "metadata": {
    "colab": {
      "name": "Assignment_07.ipynb",
      "provenance": [],
      "include_colab_link": true
    },
    "kernelspec": {
      "display_name": "Python 3",
      "language": "python",
      "name": "python3"
    },
    "language_info": {
      "codemirror_mode": {
        "name": "ipython",
        "version": 3
      },
      "file_extension": ".py",
      "mimetype": "text/x-python",
      "name": "python",
      "nbconvert_exporter": "python",
      "pygments_lexer": "ipython3",
      "version": "3.7.4"
    }
  },
  "cells": [
    {
      "cell_type": "markdown",
      "metadata": {
        "id": "view-in-github",
        "colab_type": "text"
      },
      "source": [
        "<a href=\"https://colab.research.google.com/github/YM53858/DATA-690-WANG/blob/master/Assignment_07/Assignment_07.ipynb\" target=\"_parent\"><img src=\"https://colab.research.google.com/assets/colab-badge.svg\" alt=\"Open In Colab\"/></a>"
      ]
    },
    {
      "cell_type": "markdown",
      "metadata": {
        "id": "02rFSC_-6zKz"
      },
      "source": [
        "### Assignment 07\n",
        "\n",
        "**You can use the local Jupyter environment if you are not comfortable with Colab for this assignment.**\n",
        "\n",
        "The first half of this assignment is a repeat of assignment 05.\n",
        "\n",
        "This gives you a chance to refresh.\n",
        "\n",
        "The second half is new and gives you a chance to perform additional practices.\n",
        "\n",
        "You also get a chance to use some of the Python libraries and techniques.\n",
        "\n",
        "You will unzip the zip file manually in preparation for this assignment.\n",
        "\n",
        "The link to the zip file is (you have already used it in your assignment 5):\n",
        "\n",
        "https://ed-public-download.app.cloud.gov/downloads/CollegeScorecard_Raw_Data.zip\n",
        "\n",
        "After unzipping, You will have all files in one folder named \"CollegeScorecard_Raw_Data\" \n",
        "\n",
        "The folder contains the yearly data files from 1996 to 2019 school years.\n",
        "\n",
        "if you are using your local environment, I suggest you create a new folder call \"Assignment7\" and place the Notebook file and the data folder under it.\n",
        "```\n",
        "Assignment7/\n",
        "    - assignment_07.ipynb\n",
        "    - CollegeScorecard_Raw_Data/\n",
        "        - ...\n",
        "        - 'MERGED1996_97_PP.csv',\n",
        "        - 'MERGED2015_16_PP.csv',\n",
        "        - ...\n",
        "        - 'MERGED2017_18_PP.csv'\n",
        "```\n"
      ]
    },
    {
      "cell_type": "code",
      "metadata": {
        "id": "CfSasSG36zK1"
      },
      "source": [
        "# <1> \n",
        "# Import libraries\n",
        "import pandas as pd\n",
        "import os\n",
        "import re\n",
        "import matplotlib.pyplot as plt\n",
        "import warnings\n",
        "warnings.filterwarnings('ignore') # To avoid warnings"
      ],
      "execution_count": null,
      "outputs": []
    },
    {
      "cell_type": "code",
      "metadata": {
        "id": "duwKxi1L6zK5",
        "outputId": "8e18b79e-e865-43cb-b47a-24aaffc7171d"
      },
      "source": [
        "# <2> \n",
        "# Display the current workin directory using os.getcwd()\n",
        "# you would need to import a standard Python library called os which stands for operating system,\n",
        "# so place that import statement in the previous cell.\n",
        "# Since your notebook and your data files are not in # the same folder, \n",
        "# you want to make sure what is the current working folder and \n",
        "# how to access a data file in a different folder\n",
        "\n",
        "path = os.getcwd()\n",
        "path"
      ],
      "execution_count": null,
      "outputs": [
        {
          "output_type": "execute_result",
          "data": {
            "text/plain": [
              "'C:\\\\Users\\\\saivi\\\\Desktop\\\\690 STATS&VIZ\\\\Assignment 7'"
            ]
          },
          "metadata": {
            "tags": []
          },
          "execution_count": 2
        }
      ]
    },
    {
      "cell_type": "code",
      "metadata": {
        "id": "LMBN0HsY6zLA",
        "outputId": "a5f38c94-2d4e-459a-8d9b-105ca2252e76"
      },
      "source": [
        "# <3> \n",
        "# os library has a method call listdir which generates a list of files in a directory/folder.\n",
        "# use this method to assign the contents (list of file names) of the data folder to a variable and display it.\n",
        "# # You can use ../ construct to traverse to the parent folder and then to another foloder parallel to the current folder\n",
        "\n",
        "clist = os.listdir(\"CollegeScorecard_Raw_Data/\")\n",
        "clist"
      ],
      "execution_count": null,
      "outputs": [
        {
          "output_type": "execute_result",
          "data": {
            "text/plain": [
              "['.DS_Store',\n",
              " 'Crosswalks.zip',\n",
              " 'data.yaml',\n",
              " 'FieldOfStudyData1415_1516_PP.csv',\n",
              " 'FieldOfStudyData1516_1617_PP.csv',\n",
              " 'MERGED1996_97_PP.csv',\n",
              " 'MERGED1997_98_PP.csv',\n",
              " 'MERGED1998_99_PP.csv',\n",
              " 'MERGED1999_00_PP.csv',\n",
              " 'MERGED2000_01_PP.csv',\n",
              " 'MERGED2001_02_PP.csv',\n",
              " 'MERGED2002_03_PP.csv',\n",
              " 'MERGED2003_04_PP.csv',\n",
              " 'MERGED2004_05_PP.csv',\n",
              " 'MERGED2005_06_PP.csv',\n",
              " 'MERGED2006_07_PP.csv',\n",
              " 'MERGED2007_08_PP.csv',\n",
              " 'MERGED2008_09_PP.csv',\n",
              " 'MERGED2009_10_PP.csv',\n",
              " 'MERGED2010_11_PP.csv',\n",
              " 'MERGED2011_12_PP.csv',\n",
              " 'MERGED2012_13_PP.csv',\n",
              " 'MERGED2013_14_PP.csv',\n",
              " 'MERGED2014_15_PP.csv',\n",
              " 'MERGED2015_16_PP.csv',\n",
              " 'MERGED2016_17_PP.csv',\n",
              " 'MERGED2018_19_PP.csv']"
            ]
          },
          "metadata": {
            "tags": []
          },
          "execution_count": 3
        }
      ]
    },
    {
      "cell_type": "code",
      "metadata": {
        "id": "UCDRqtrf6zLL",
        "outputId": "fea8fc7a-ef39-4818-d5e9-d8fe8596060f"
      },
      "source": [
        "# <4> \n",
        "# The folder contains files that are not the yearly data files\n",
        "# write code to remove the unwanted files from the list vsriable \n",
        "# Note: don't remove/delete these files from the folder in your drive\n",
        "# For example, use the file extension to only keep the csv files \n",
        "# or use the name patter - data file name begins with \"MERGED\"\n",
        "# You can use the concept of list comprehension to write just \n",
        "# one line of code as well as using a for loop, your choice.\n",
        "\n",
        "clist[:] = [x for x in clist if x.startswith(\"MERGED\")==True]\n",
        "\n",
        "clist        "
      ],
      "execution_count": null,
      "outputs": [
        {
          "output_type": "execute_result",
          "data": {
            "text/plain": [
              "['MERGED1996_97_PP.csv',\n",
              " 'MERGED1997_98_PP.csv',\n",
              " 'MERGED1998_99_PP.csv',\n",
              " 'MERGED1999_00_PP.csv',\n",
              " 'MERGED2000_01_PP.csv',\n",
              " 'MERGED2001_02_PP.csv',\n",
              " 'MERGED2002_03_PP.csv',\n",
              " 'MERGED2003_04_PP.csv',\n",
              " 'MERGED2004_05_PP.csv',\n",
              " 'MERGED2005_06_PP.csv',\n",
              " 'MERGED2006_07_PP.csv',\n",
              " 'MERGED2007_08_PP.csv',\n",
              " 'MERGED2008_09_PP.csv',\n",
              " 'MERGED2009_10_PP.csv',\n",
              " 'MERGED2010_11_PP.csv',\n",
              " 'MERGED2011_12_PP.csv',\n",
              " 'MERGED2012_13_PP.csv',\n",
              " 'MERGED2013_14_PP.csv',\n",
              " 'MERGED2014_15_PP.csv',\n",
              " 'MERGED2015_16_PP.csv',\n",
              " 'MERGED2016_17_PP.csv',\n",
              " 'MERGED2018_19_PP.csv']"
            ]
          },
          "metadata": {
            "tags": []
          },
          "execution_count": 4
        }
      ]
    },
    {
      "cell_type": "code",
      "metadata": {
        "id": "rtrB8C_R6zLS"
      },
      "source": [
        "# <5> \n",
        "# Now that you have a clean list of the yearly files, you want to loop through them\n",
        "# and read them into a dataframe one at a time. You only load six columns: \n",
        "# [\"UNITID\", \"INSTNM\", \"STABBR\", \"REGION\", \"ADM_RATE\", \"TUITIONFEE_IN\"].\n",
        "# You should use \"usecols\" option of Pandas to avoid reading unwanted columns.\n",
        "# You also want to add a new column call \"YEAR\" to differentiate the data frames from each other.\n",
        "# The YEAR variable should be yyyy format so tht you can convert them into integer.\n",
        "# if you use the format yyyy-yy (such as 1997-98 school year), you will not be able to convert them directly to integer\n",
        "# if you use scatter plot, the YEAR needs to be converted to integer or float. \n",
        "# \n",
        "# You would use an empty list and append the yearly dataframes to the list.\n",
        "# After all data files are loaded and appended to the list, you would use Pandas to concatenate them into a \n",
        "# new single data frame.\n",
        "# Note: this exercise incorporates many techques we learned before\n",
        "# - list (creating an empty, append an item to the list)\n",
        "# - for loop \n",
        "# - read only the needed columns from a file (using usecols option)\n",
        "# - add a new column to a data frame\n",
        "# - concatenate multiple dataframes into a single one\n",
        "# This exercise may appear a big challenging but it worths the effort. You will learn a lot and  love it. I promise.\n",
        "\n",
        "dfs = []\n",
        "\n",
        "for i in clist:\n",
        "    x = pd.read_csv(path+'\\\\CollegeScorecard_Raw_Data\\\\'+i,usecols=[\"UNITID\", \"INSTNM\", \"STABBR\", \"REGION\", \"ADM_RATE\", \"TUITIONFEE_IN\"]) \n",
        "    x['YEAR'] = i[6:10]\n",
        "    dfs.append(x)\n",
        "df = pd.concat(dfs, axis=0, ignore_index=True)"
      ],
      "execution_count": null,
      "outputs": []
    },
    {
      "cell_type": "code",
      "metadata": {
        "id": "edeh-FDkNZw4",
        "outputId": "5419e9e1-7b90-4089-c697-bded6964c67c"
      },
      "source": [
        "df"
      ],
      "execution_count": null,
      "outputs": [
        {
          "output_type": "execute_result",
          "data": {
            "text/html": [
              "<div>\n",
              "<style scoped>\n",
              "    .dataframe tbody tr th:only-of-type {\n",
              "        vertical-align: middle;\n",
              "    }\n",
              "\n",
              "    .dataframe tbody tr th {\n",
              "        vertical-align: top;\n",
              "    }\n",
              "\n",
              "    .dataframe thead th {\n",
              "        text-align: right;\n",
              "    }\n",
              "</style>\n",
              "<table border=\"1\" class=\"dataframe\">\n",
              "  <thead>\n",
              "    <tr style=\"text-align: right;\">\n",
              "      <th></th>\n",
              "      <th>UNITID</th>\n",
              "      <th>INSTNM</th>\n",
              "      <th>STABBR</th>\n",
              "      <th>REGION</th>\n",
              "      <th>ADM_RATE</th>\n",
              "      <th>TUITIONFEE_IN</th>\n",
              "      <th>YEAR</th>\n",
              "    </tr>\n",
              "  </thead>\n",
              "  <tbody>\n",
              "    <tr>\n",
              "      <td>0</td>\n",
              "      <td>100636</td>\n",
              "      <td>Community College of the Air Force</td>\n",
              "      <td>AL</td>\n",
              "      <td>0.0</td>\n",
              "      <td>NaN</td>\n",
              "      <td>NaN</td>\n",
              "      <td>1996</td>\n",
              "    </tr>\n",
              "    <tr>\n",
              "      <td>1</td>\n",
              "      <td>100654</td>\n",
              "      <td>Alabama A &amp; M University</td>\n",
              "      <td>AL</td>\n",
              "      <td>5.0</td>\n",
              "      <td>NaN</td>\n",
              "      <td>NaN</td>\n",
              "      <td>1996</td>\n",
              "    </tr>\n",
              "    <tr>\n",
              "      <td>2</td>\n",
              "      <td>100663</td>\n",
              "      <td>University of Alabama at Birmingham</td>\n",
              "      <td>AL</td>\n",
              "      <td>5.0</td>\n",
              "      <td>NaN</td>\n",
              "      <td>NaN</td>\n",
              "      <td>1996</td>\n",
              "    </tr>\n",
              "    <tr>\n",
              "      <td>3</td>\n",
              "      <td>100672</td>\n",
              "      <td>ALABAMA AVIATION AND TECHNICAL COLLEGE</td>\n",
              "      <td>AL</td>\n",
              "      <td>5.0</td>\n",
              "      <td>NaN</td>\n",
              "      <td>NaN</td>\n",
              "      <td>1996</td>\n",
              "    </tr>\n",
              "    <tr>\n",
              "      <td>4</td>\n",
              "      <td>100690</td>\n",
              "      <td>Amridge University</td>\n",
              "      <td>AL</td>\n",
              "      <td>5.0</td>\n",
              "      <td>NaN</td>\n",
              "      <td>NaN</td>\n",
              "      <td>1996</td>\n",
              "    </tr>\n",
              "    <tr>\n",
              "      <td>...</td>\n",
              "      <td>...</td>\n",
              "      <td>...</td>\n",
              "      <td>...</td>\n",
              "      <td>...</td>\n",
              "      <td>...</td>\n",
              "      <td>...</td>\n",
              "      <td>...</td>\n",
              "    </tr>\n",
              "    <tr>\n",
              "      <td>156214</td>\n",
              "      <td>48511112</td>\n",
              "      <td>Georgia Military College - Dublin</td>\n",
              "      <td>GA</td>\n",
              "      <td>5.0</td>\n",
              "      <td>NaN</td>\n",
              "      <td>6120.0</td>\n",
              "      <td>2018</td>\n",
              "    </tr>\n",
              "    <tr>\n",
              "      <td>156215</td>\n",
              "      <td>48511113</td>\n",
              "      <td>Georgia Military College - Eastman</td>\n",
              "      <td>GA</td>\n",
              "      <td>5.0</td>\n",
              "      <td>NaN</td>\n",
              "      <td>6120.0</td>\n",
              "      <td>2018</td>\n",
              "    </tr>\n",
              "    <tr>\n",
              "      <td>156216</td>\n",
              "      <td>48616901</td>\n",
              "      <td>American College of Barbering - Florence</td>\n",
              "      <td>KY</td>\n",
              "      <td>5.0</td>\n",
              "      <td>NaN</td>\n",
              "      <td>NaN</td>\n",
              "      <td>2018</td>\n",
              "    </tr>\n",
              "    <tr>\n",
              "      <td>156217</td>\n",
              "      <td>49005401</td>\n",
              "      <td>HCI College - Fort Lauderdale Campus</td>\n",
              "      <td>FL</td>\n",
              "      <td>5.0</td>\n",
              "      <td>NaN</td>\n",
              "      <td>21420.0</td>\n",
              "      <td>2018</td>\n",
              "    </tr>\n",
              "    <tr>\n",
              "      <td>156218</td>\n",
              "      <td>49146401</td>\n",
              "      <td>ABC Adult School - Cabrillo Lane</td>\n",
              "      <td>CA</td>\n",
              "      <td>8.0</td>\n",
              "      <td>NaN</td>\n",
              "      <td>NaN</td>\n",
              "      <td>2018</td>\n",
              "    </tr>\n",
              "  </tbody>\n",
              "</table>\n",
              "<p>156219 rows × 7 columns</p>\n",
              "</div>"
            ],
            "text/plain": [
              "          UNITID                                    INSTNM STABBR  REGION  \\\n",
              "0         100636        Community College of the Air Force     AL     0.0   \n",
              "1         100654                  Alabama A & M University     AL     5.0   \n",
              "2         100663       University of Alabama at Birmingham     AL     5.0   \n",
              "3         100672    ALABAMA AVIATION AND TECHNICAL COLLEGE     AL     5.0   \n",
              "4         100690                        Amridge University     AL     5.0   \n",
              "...          ...                                       ...    ...     ...   \n",
              "156214  48511112         Georgia Military College - Dublin     GA     5.0   \n",
              "156215  48511113        Georgia Military College - Eastman     GA     5.0   \n",
              "156216  48616901  American College of Barbering - Florence     KY     5.0   \n",
              "156217  49005401      HCI College - Fort Lauderdale Campus     FL     5.0   \n",
              "156218  49146401          ABC Adult School - Cabrillo Lane     CA     8.0   \n",
              "\n",
              "        ADM_RATE  TUITIONFEE_IN  YEAR  \n",
              "0            NaN            NaN  1996  \n",
              "1            NaN            NaN  1996  \n",
              "2            NaN            NaN  1996  \n",
              "3            NaN            NaN  1996  \n",
              "4            NaN            NaN  1996  \n",
              "...          ...            ...   ...  \n",
              "156214       NaN         6120.0  2018  \n",
              "156215       NaN         6120.0  2018  \n",
              "156216       NaN            NaN  2018  \n",
              "156217       NaN        21420.0  2018  \n",
              "156218       NaN            NaN  2018  \n",
              "\n",
              "[156219 rows x 7 columns]"
            ]
          },
          "metadata": {
            "tags": []
          },
          "execution_count": 6
        }
      ]
    },
    {
      "cell_type": "code",
      "metadata": {
        "id": "riJxj3vU6zLY",
        "outputId": "ecdc050e-8447-4269-ff6f-8ec82e798143"
      },
      "source": [
        "# <6> \n",
        "# explore the new dataframe (# of observations, varibles, head, tail, sample, missing values, statistics,etc.)\n",
        "\n",
        "df.describe()\n"
      ],
      "execution_count": null,
      "outputs": [
        {
          "output_type": "execute_result",
          "data": {
            "text/html": [
              "<div>\n",
              "<style scoped>\n",
              "    .dataframe tbody tr th:only-of-type {\n",
              "        vertical-align: middle;\n",
              "    }\n",
              "\n",
              "    .dataframe tbody tr th {\n",
              "        vertical-align: top;\n",
              "    }\n",
              "\n",
              "    .dataframe thead th {\n",
              "        text-align: right;\n",
              "    }\n",
              "</style>\n",
              "<table border=\"1\" class=\"dataframe\">\n",
              "  <thead>\n",
              "    <tr style=\"text-align: right;\">\n",
              "      <th></th>\n",
              "      <th>UNITID</th>\n",
              "      <th>REGION</th>\n",
              "      <th>ADM_RATE</th>\n",
              "      <th>TUITIONFEE_IN</th>\n",
              "    </tr>\n",
              "  </thead>\n",
              "  <tbody>\n",
              "    <tr>\n",
              "      <td>count</td>\n",
              "      <td>1.562190e+05</td>\n",
              "      <td>156218.000000</td>\n",
              "      <td>42874.000000</td>\n",
              "      <td>75173.000000</td>\n",
              "    </tr>\n",
              "    <tr>\n",
              "      <td>mean</td>\n",
              "      <td>9.011790e+05</td>\n",
              "      <td>4.552062</td>\n",
              "      <td>0.693456</td>\n",
              "      <td>11481.937331</td>\n",
              "    </tr>\n",
              "    <tr>\n",
              "      <td>std</td>\n",
              "      <td>4.428011e+06</td>\n",
              "      <td>2.190007</td>\n",
              "      <td>0.217268</td>\n",
              "      <td>9784.218804</td>\n",
              "    </tr>\n",
              "    <tr>\n",
              "      <td>min</td>\n",
              "      <td>1.006360e+05</td>\n",
              "      <td>0.000000</td>\n",
              "      <td>0.000000</td>\n",
              "      <td>0.000000</td>\n",
              "    </tr>\n",
              "    <tr>\n",
              "      <td>25%</td>\n",
              "      <td>1.627790e+05</td>\n",
              "      <td>3.000000</td>\n",
              "      <td>0.555100</td>\n",
              "      <td>3676.000000</td>\n",
              "    </tr>\n",
              "    <tr>\n",
              "      <td>50%</td>\n",
              "      <td>2.122670e+05</td>\n",
              "      <td>5.000000</td>\n",
              "      <td>0.717900</td>\n",
              "      <td>9150.000000</td>\n",
              "    </tr>\n",
              "    <tr>\n",
              "      <td>75%</td>\n",
              "      <td>4.060510e+05</td>\n",
              "      <td>6.000000</td>\n",
              "      <td>0.857325</td>\n",
              "      <td>15992.000000</td>\n",
              "    </tr>\n",
              "    <tr>\n",
              "      <td>max</td>\n",
              "      <td>4.914640e+07</td>\n",
              "      <td>9.000000</td>\n",
              "      <td>1.000000</td>\n",
              "      <td>74787.000000</td>\n",
              "    </tr>\n",
              "  </tbody>\n",
              "</table>\n",
              "</div>"
            ],
            "text/plain": [
              "             UNITID         REGION      ADM_RATE  TUITIONFEE_IN\n",
              "count  1.562190e+05  156218.000000  42874.000000   75173.000000\n",
              "mean   9.011790e+05       4.552062      0.693456   11481.937331\n",
              "std    4.428011e+06       2.190007      0.217268    9784.218804\n",
              "min    1.006360e+05       0.000000      0.000000       0.000000\n",
              "25%    1.627790e+05       3.000000      0.555100    3676.000000\n",
              "50%    2.122670e+05       5.000000      0.717900    9150.000000\n",
              "75%    4.060510e+05       6.000000      0.857325   15992.000000\n",
              "max    4.914640e+07       9.000000      1.000000   74787.000000"
            ]
          },
          "metadata": {
            "tags": []
          },
          "execution_count": 7
        }
      ]
    },
    {
      "cell_type": "code",
      "metadata": {
        "id": "BacI81lENZw8",
        "outputId": "60d30e7e-93b1-4b61-ca73-9632a6360cd0"
      },
      "source": [
        "df.info()"
      ],
      "execution_count": null,
      "outputs": [
        {
          "output_type": "stream",
          "text": [
            "<class 'pandas.core.frame.DataFrame'>\n",
            "RangeIndex: 156219 entries, 0 to 156218\n",
            "Data columns (total 7 columns):\n",
            "UNITID           156219 non-null int64\n",
            "INSTNM           156219 non-null object\n",
            "STABBR           156219 non-null object\n",
            "REGION           156218 non-null float64\n",
            "ADM_RATE         42874 non-null float64\n",
            "TUITIONFEE_IN    75173 non-null float64\n",
            "YEAR             156219 non-null object\n",
            "dtypes: float64(3), int64(1), object(3)\n",
            "memory usage: 8.3+ MB\n"
          ],
          "name": "stdout"
        }
      ]
    },
    {
      "cell_type": "code",
      "metadata": {
        "id": "LQpmW8r-NZw_",
        "outputId": "c8ff5cf3-a3a3-42a0-fbb2-18806c668b5f"
      },
      "source": [
        "df.head(5)"
      ],
      "execution_count": null,
      "outputs": [
        {
          "output_type": "execute_result",
          "data": {
            "text/html": [
              "<div>\n",
              "<style scoped>\n",
              "    .dataframe tbody tr th:only-of-type {\n",
              "        vertical-align: middle;\n",
              "    }\n",
              "\n",
              "    .dataframe tbody tr th {\n",
              "        vertical-align: top;\n",
              "    }\n",
              "\n",
              "    .dataframe thead th {\n",
              "        text-align: right;\n",
              "    }\n",
              "</style>\n",
              "<table border=\"1\" class=\"dataframe\">\n",
              "  <thead>\n",
              "    <tr style=\"text-align: right;\">\n",
              "      <th></th>\n",
              "      <th>UNITID</th>\n",
              "      <th>INSTNM</th>\n",
              "      <th>STABBR</th>\n",
              "      <th>REGION</th>\n",
              "      <th>ADM_RATE</th>\n",
              "      <th>TUITIONFEE_IN</th>\n",
              "      <th>YEAR</th>\n",
              "    </tr>\n",
              "  </thead>\n",
              "  <tbody>\n",
              "    <tr>\n",
              "      <td>0</td>\n",
              "      <td>100636</td>\n",
              "      <td>Community College of the Air Force</td>\n",
              "      <td>AL</td>\n",
              "      <td>0.0</td>\n",
              "      <td>NaN</td>\n",
              "      <td>NaN</td>\n",
              "      <td>1996</td>\n",
              "    </tr>\n",
              "    <tr>\n",
              "      <td>1</td>\n",
              "      <td>100654</td>\n",
              "      <td>Alabama A &amp; M University</td>\n",
              "      <td>AL</td>\n",
              "      <td>5.0</td>\n",
              "      <td>NaN</td>\n",
              "      <td>NaN</td>\n",
              "      <td>1996</td>\n",
              "    </tr>\n",
              "    <tr>\n",
              "      <td>2</td>\n",
              "      <td>100663</td>\n",
              "      <td>University of Alabama at Birmingham</td>\n",
              "      <td>AL</td>\n",
              "      <td>5.0</td>\n",
              "      <td>NaN</td>\n",
              "      <td>NaN</td>\n",
              "      <td>1996</td>\n",
              "    </tr>\n",
              "    <tr>\n",
              "      <td>3</td>\n",
              "      <td>100672</td>\n",
              "      <td>ALABAMA AVIATION AND TECHNICAL COLLEGE</td>\n",
              "      <td>AL</td>\n",
              "      <td>5.0</td>\n",
              "      <td>NaN</td>\n",
              "      <td>NaN</td>\n",
              "      <td>1996</td>\n",
              "    </tr>\n",
              "    <tr>\n",
              "      <td>4</td>\n",
              "      <td>100690</td>\n",
              "      <td>Amridge University</td>\n",
              "      <td>AL</td>\n",
              "      <td>5.0</td>\n",
              "      <td>NaN</td>\n",
              "      <td>NaN</td>\n",
              "      <td>1996</td>\n",
              "    </tr>\n",
              "  </tbody>\n",
              "</table>\n",
              "</div>"
            ],
            "text/plain": [
              "   UNITID                                  INSTNM STABBR  REGION  ADM_RATE  \\\n",
              "0  100636      Community College of the Air Force     AL     0.0       NaN   \n",
              "1  100654                Alabama A & M University     AL     5.0       NaN   \n",
              "2  100663     University of Alabama at Birmingham     AL     5.0       NaN   \n",
              "3  100672  ALABAMA AVIATION AND TECHNICAL COLLEGE     AL     5.0       NaN   \n",
              "4  100690                      Amridge University     AL     5.0       NaN   \n",
              "\n",
              "   TUITIONFEE_IN  YEAR  \n",
              "0            NaN  1996  \n",
              "1            NaN  1996  \n",
              "2            NaN  1996  \n",
              "3            NaN  1996  \n",
              "4            NaN  1996  "
            ]
          },
          "metadata": {
            "tags": []
          },
          "execution_count": 9
        }
      ]
    },
    {
      "cell_type": "code",
      "metadata": {
        "id": "sWQLZiEhNZxC",
        "outputId": "b1b3e921-14be-4c49-9e55-cf8cf4f45491"
      },
      "source": [
        "df.tail(5)"
      ],
      "execution_count": null,
      "outputs": [
        {
          "output_type": "execute_result",
          "data": {
            "text/html": [
              "<div>\n",
              "<style scoped>\n",
              "    .dataframe tbody tr th:only-of-type {\n",
              "        vertical-align: middle;\n",
              "    }\n",
              "\n",
              "    .dataframe tbody tr th {\n",
              "        vertical-align: top;\n",
              "    }\n",
              "\n",
              "    .dataframe thead th {\n",
              "        text-align: right;\n",
              "    }\n",
              "</style>\n",
              "<table border=\"1\" class=\"dataframe\">\n",
              "  <thead>\n",
              "    <tr style=\"text-align: right;\">\n",
              "      <th></th>\n",
              "      <th>UNITID</th>\n",
              "      <th>INSTNM</th>\n",
              "      <th>STABBR</th>\n",
              "      <th>REGION</th>\n",
              "      <th>ADM_RATE</th>\n",
              "      <th>TUITIONFEE_IN</th>\n",
              "      <th>YEAR</th>\n",
              "    </tr>\n",
              "  </thead>\n",
              "  <tbody>\n",
              "    <tr>\n",
              "      <td>156214</td>\n",
              "      <td>48511112</td>\n",
              "      <td>Georgia Military College - Dublin</td>\n",
              "      <td>GA</td>\n",
              "      <td>5.0</td>\n",
              "      <td>NaN</td>\n",
              "      <td>6120.0</td>\n",
              "      <td>2018</td>\n",
              "    </tr>\n",
              "    <tr>\n",
              "      <td>156215</td>\n",
              "      <td>48511113</td>\n",
              "      <td>Georgia Military College - Eastman</td>\n",
              "      <td>GA</td>\n",
              "      <td>5.0</td>\n",
              "      <td>NaN</td>\n",
              "      <td>6120.0</td>\n",
              "      <td>2018</td>\n",
              "    </tr>\n",
              "    <tr>\n",
              "      <td>156216</td>\n",
              "      <td>48616901</td>\n",
              "      <td>American College of Barbering - Florence</td>\n",
              "      <td>KY</td>\n",
              "      <td>5.0</td>\n",
              "      <td>NaN</td>\n",
              "      <td>NaN</td>\n",
              "      <td>2018</td>\n",
              "    </tr>\n",
              "    <tr>\n",
              "      <td>156217</td>\n",
              "      <td>49005401</td>\n",
              "      <td>HCI College - Fort Lauderdale Campus</td>\n",
              "      <td>FL</td>\n",
              "      <td>5.0</td>\n",
              "      <td>NaN</td>\n",
              "      <td>21420.0</td>\n",
              "      <td>2018</td>\n",
              "    </tr>\n",
              "    <tr>\n",
              "      <td>156218</td>\n",
              "      <td>49146401</td>\n",
              "      <td>ABC Adult School - Cabrillo Lane</td>\n",
              "      <td>CA</td>\n",
              "      <td>8.0</td>\n",
              "      <td>NaN</td>\n",
              "      <td>NaN</td>\n",
              "      <td>2018</td>\n",
              "    </tr>\n",
              "  </tbody>\n",
              "</table>\n",
              "</div>"
            ],
            "text/plain": [
              "          UNITID                                    INSTNM STABBR  REGION  \\\n",
              "156214  48511112         Georgia Military College - Dublin     GA     5.0   \n",
              "156215  48511113        Georgia Military College - Eastman     GA     5.0   \n",
              "156216  48616901  American College of Barbering - Florence     KY     5.0   \n",
              "156217  49005401      HCI College - Fort Lauderdale Campus     FL     5.0   \n",
              "156218  49146401          ABC Adult School - Cabrillo Lane     CA     8.0   \n",
              "\n",
              "        ADM_RATE  TUITIONFEE_IN  YEAR  \n",
              "156214       NaN         6120.0  2018  \n",
              "156215       NaN         6120.0  2018  \n",
              "156216       NaN            NaN  2018  \n",
              "156217       NaN        21420.0  2018  \n",
              "156218       NaN            NaN  2018  "
            ]
          },
          "metadata": {
            "tags": []
          },
          "execution_count": 10
        }
      ]
    },
    {
      "cell_type": "code",
      "metadata": {
        "id": "C6PU9bisNZxE",
        "outputId": "d018e3af-52ec-4ab3-b95d-ad8a7aedaa2b"
      },
      "source": [
        "df.isna().sum() #missing  values"
      ],
      "execution_count": null,
      "outputs": [
        {
          "output_type": "execute_result",
          "data": {
            "text/plain": [
              "UNITID                0\n",
              "INSTNM                0\n",
              "STABBR                0\n",
              "REGION                1\n",
              "ADM_RATE         113345\n",
              "TUITIONFEE_IN     81046\n",
              "YEAR                  0\n",
              "dtype: int64"
            ]
          },
          "metadata": {
            "tags": []
          },
          "execution_count": 11
        }
      ]
    },
    {
      "cell_type": "code",
      "metadata": {
        "id": "NQjKoDmU6zLd",
        "outputId": "ca82626a-7225-40b2-9e7c-f85b6a664665"
      },
      "source": [
        "# <7>\n",
        "# the dataframe contains many years of data of all U.S. colleges.\n",
        "# let's just look at UMBC\n",
        "# filter/query the dataframe to retrieve only rows that belong to UMBC\n",
        "# save the UMNC data to a new data frame. using a new variable \n",
        "# so that the old big data frame is still available for later use.\n",
        "\n",
        "UMBC = df.loc[df[\"INSTNM\"]==\"University of Maryland-Baltimore County\"]\n",
        "UMBC = UMBC.reset_index().drop(columns=['index'])\n",
        "UMBC"
      ],
      "execution_count": null,
      "outputs": [
        {
          "output_type": "execute_result",
          "data": {
            "text/html": [
              "<div>\n",
              "<style scoped>\n",
              "    .dataframe tbody tr th:only-of-type {\n",
              "        vertical-align: middle;\n",
              "    }\n",
              "\n",
              "    .dataframe tbody tr th {\n",
              "        vertical-align: top;\n",
              "    }\n",
              "\n",
              "    .dataframe thead th {\n",
              "        text-align: right;\n",
              "    }\n",
              "</style>\n",
              "<table border=\"1\" class=\"dataframe\">\n",
              "  <thead>\n",
              "    <tr style=\"text-align: right;\">\n",
              "      <th></th>\n",
              "      <th>UNITID</th>\n",
              "      <th>INSTNM</th>\n",
              "      <th>STABBR</th>\n",
              "      <th>REGION</th>\n",
              "      <th>ADM_RATE</th>\n",
              "      <th>TUITIONFEE_IN</th>\n",
              "      <th>YEAR</th>\n",
              "    </tr>\n",
              "  </thead>\n",
              "  <tbody>\n",
              "    <tr>\n",
              "      <td>0</td>\n",
              "      <td>163268</td>\n",
              "      <td>University of Maryland-Baltimore County</td>\n",
              "      <td>MD</td>\n",
              "      <td>2.0</td>\n",
              "      <td>NaN</td>\n",
              "      <td>NaN</td>\n",
              "      <td>1996</td>\n",
              "    </tr>\n",
              "    <tr>\n",
              "      <td>1</td>\n",
              "      <td>163268</td>\n",
              "      <td>University of Maryland-Baltimore County</td>\n",
              "      <td>MD</td>\n",
              "      <td>2.0</td>\n",
              "      <td>NaN</td>\n",
              "      <td>NaN</td>\n",
              "      <td>1997</td>\n",
              "    </tr>\n",
              "    <tr>\n",
              "      <td>2</td>\n",
              "      <td>163268</td>\n",
              "      <td>University of Maryland-Baltimore County</td>\n",
              "      <td>MD</td>\n",
              "      <td>2.0</td>\n",
              "      <td>NaN</td>\n",
              "      <td>NaN</td>\n",
              "      <td>1998</td>\n",
              "    </tr>\n",
              "    <tr>\n",
              "      <td>3</td>\n",
              "      <td>163268</td>\n",
              "      <td>University of Maryland-Baltimore County</td>\n",
              "      <td>MD</td>\n",
              "      <td>2.0</td>\n",
              "      <td>NaN</td>\n",
              "      <td>NaN</td>\n",
              "      <td>1999</td>\n",
              "    </tr>\n",
              "    <tr>\n",
              "      <td>4</td>\n",
              "      <td>163268</td>\n",
              "      <td>University of Maryland-Baltimore County</td>\n",
              "      <td>MD</td>\n",
              "      <td>2.0</td>\n",
              "      <td>NaN</td>\n",
              "      <td>5490.0</td>\n",
              "      <td>2000</td>\n",
              "    </tr>\n",
              "    <tr>\n",
              "      <td>5</td>\n",
              "      <td>163268</td>\n",
              "      <td>University of Maryland-Baltimore County</td>\n",
              "      <td>MD</td>\n",
              "      <td>2.0</td>\n",
              "      <td>0.6551</td>\n",
              "      <td>5910.0</td>\n",
              "      <td>2001</td>\n",
              "    </tr>\n",
              "    <tr>\n",
              "      <td>6</td>\n",
              "      <td>163268</td>\n",
              "      <td>University of Maryland-Baltimore County</td>\n",
              "      <td>MD</td>\n",
              "      <td>2.0</td>\n",
              "      <td>0.6327</td>\n",
              "      <td>6362.0</td>\n",
              "      <td>2002</td>\n",
              "    </tr>\n",
              "    <tr>\n",
              "      <td>7</td>\n",
              "      <td>163268</td>\n",
              "      <td>University of Maryland-Baltimore County</td>\n",
              "      <td>MD</td>\n",
              "      <td>2.0</td>\n",
              "      <td>0.5757</td>\n",
              "      <td>7388.0</td>\n",
              "      <td>2003</td>\n",
              "    </tr>\n",
              "    <tr>\n",
              "      <td>8</td>\n",
              "      <td>163268</td>\n",
              "      <td>University of Maryland-Baltimore County</td>\n",
              "      <td>MD</td>\n",
              "      <td>2.0</td>\n",
              "      <td>0.7014</td>\n",
              "      <td>8020.0</td>\n",
              "      <td>2004</td>\n",
              "    </tr>\n",
              "    <tr>\n",
              "      <td>9</td>\n",
              "      <td>163268</td>\n",
              "      <td>University of Maryland-Baltimore County</td>\n",
              "      <td>MD</td>\n",
              "      <td>2.0</td>\n",
              "      <td>0.7143</td>\n",
              "      <td>8520.0</td>\n",
              "      <td>2005</td>\n",
              "    </tr>\n",
              "    <tr>\n",
              "      <td>10</td>\n",
              "      <td>163268</td>\n",
              "      <td>University of Maryland-Baltimore County</td>\n",
              "      <td>MD</td>\n",
              "      <td>2.0</td>\n",
              "      <td>0.7153</td>\n",
              "      <td>8622.0</td>\n",
              "      <td>2006</td>\n",
              "    </tr>\n",
              "    <tr>\n",
              "      <td>11</td>\n",
              "      <td>163268</td>\n",
              "      <td>University of Maryland-Baltimore County</td>\n",
              "      <td>MD</td>\n",
              "      <td>2.0</td>\n",
              "      <td>0.6895</td>\n",
              "      <td>8708.0</td>\n",
              "      <td>2007</td>\n",
              "    </tr>\n",
              "    <tr>\n",
              "      <td>12</td>\n",
              "      <td>163268</td>\n",
              "      <td>University of Maryland-Baltimore County</td>\n",
              "      <td>MD</td>\n",
              "      <td>2.0</td>\n",
              "      <td>0.7174</td>\n",
              "      <td>8780.0</td>\n",
              "      <td>2008</td>\n",
              "    </tr>\n",
              "    <tr>\n",
              "      <td>13</td>\n",
              "      <td>163268</td>\n",
              "      <td>University of Maryland-Baltimore County</td>\n",
              "      <td>MD</td>\n",
              "      <td>2.0</td>\n",
              "      <td>0.6890</td>\n",
              "      <td>8872.0</td>\n",
              "      <td>2009</td>\n",
              "    </tr>\n",
              "    <tr>\n",
              "      <td>14</td>\n",
              "      <td>163268</td>\n",
              "      <td>University of Maryland-Baltimore County</td>\n",
              "      <td>MD</td>\n",
              "      <td>2.0</td>\n",
              "      <td>0.6589</td>\n",
              "      <td>9171.0</td>\n",
              "      <td>2010</td>\n",
              "    </tr>\n",
              "    <tr>\n",
              "      <td>15</td>\n",
              "      <td>163268</td>\n",
              "      <td>University of Maryland-Baltimore County</td>\n",
              "      <td>MD</td>\n",
              "      <td>2.0</td>\n",
              "      <td>0.6081</td>\n",
              "      <td>9467.0</td>\n",
              "      <td>2011</td>\n",
              "    </tr>\n",
              "    <tr>\n",
              "      <td>16</td>\n",
              "      <td>163268</td>\n",
              "      <td>University of Maryland-Baltimore County</td>\n",
              "      <td>MD</td>\n",
              "      <td>2.0</td>\n",
              "      <td>0.6035</td>\n",
              "      <td>9764.0</td>\n",
              "      <td>2012</td>\n",
              "    </tr>\n",
              "    <tr>\n",
              "      <td>17</td>\n",
              "      <td>163268</td>\n",
              "      <td>University of Maryland-Baltimore County</td>\n",
              "      <td>MD</td>\n",
              "      <td>2.0</td>\n",
              "      <td>0.6315</td>\n",
              "      <td>10068.0</td>\n",
              "      <td>2013</td>\n",
              "    </tr>\n",
              "    <tr>\n",
              "      <td>18</td>\n",
              "      <td>163268</td>\n",
              "      <td>University of Maryland-Baltimore County</td>\n",
              "      <td>MD</td>\n",
              "      <td>2.0</td>\n",
              "      <td>0.5961</td>\n",
              "      <td>10384.0</td>\n",
              "      <td>2014</td>\n",
              "    </tr>\n",
              "    <tr>\n",
              "      <td>19</td>\n",
              "      <td>163268</td>\n",
              "      <td>University of Maryland-Baltimore County</td>\n",
              "      <td>MD</td>\n",
              "      <td>2.0</td>\n",
              "      <td>0.5942</td>\n",
              "      <td>11006.0</td>\n",
              "      <td>2015</td>\n",
              "    </tr>\n",
              "    <tr>\n",
              "      <td>20</td>\n",
              "      <td>163268</td>\n",
              "      <td>University of Maryland-Baltimore County</td>\n",
              "      <td>MD</td>\n",
              "      <td>2.0</td>\n",
              "      <td>0.5683</td>\n",
              "      <td>11264.0</td>\n",
              "      <td>2016</td>\n",
              "    </tr>\n",
              "    <tr>\n",
              "      <td>21</td>\n",
              "      <td>163268</td>\n",
              "      <td>University of Maryland-Baltimore County</td>\n",
              "      <td>MD</td>\n",
              "      <td>2.0</td>\n",
              "      <td>0.5794</td>\n",
              "      <td>11778.0</td>\n",
              "      <td>2018</td>\n",
              "    </tr>\n",
              "  </tbody>\n",
              "</table>\n",
              "</div>"
            ],
            "text/plain": [
              "    UNITID                                   INSTNM STABBR  REGION  ADM_RATE  \\\n",
              "0   163268  University of Maryland-Baltimore County     MD     2.0       NaN   \n",
              "1   163268  University of Maryland-Baltimore County     MD     2.0       NaN   \n",
              "2   163268  University of Maryland-Baltimore County     MD     2.0       NaN   \n",
              "3   163268  University of Maryland-Baltimore County     MD     2.0       NaN   \n",
              "4   163268  University of Maryland-Baltimore County     MD     2.0       NaN   \n",
              "5   163268  University of Maryland-Baltimore County     MD     2.0    0.6551   \n",
              "6   163268  University of Maryland-Baltimore County     MD     2.0    0.6327   \n",
              "7   163268  University of Maryland-Baltimore County     MD     2.0    0.5757   \n",
              "8   163268  University of Maryland-Baltimore County     MD     2.0    0.7014   \n",
              "9   163268  University of Maryland-Baltimore County     MD     2.0    0.7143   \n",
              "10  163268  University of Maryland-Baltimore County     MD     2.0    0.7153   \n",
              "11  163268  University of Maryland-Baltimore County     MD     2.0    0.6895   \n",
              "12  163268  University of Maryland-Baltimore County     MD     2.0    0.7174   \n",
              "13  163268  University of Maryland-Baltimore County     MD     2.0    0.6890   \n",
              "14  163268  University of Maryland-Baltimore County     MD     2.0    0.6589   \n",
              "15  163268  University of Maryland-Baltimore County     MD     2.0    0.6081   \n",
              "16  163268  University of Maryland-Baltimore County     MD     2.0    0.6035   \n",
              "17  163268  University of Maryland-Baltimore County     MD     2.0    0.6315   \n",
              "18  163268  University of Maryland-Baltimore County     MD     2.0    0.5961   \n",
              "19  163268  University of Maryland-Baltimore County     MD     2.0    0.5942   \n",
              "20  163268  University of Maryland-Baltimore County     MD     2.0    0.5683   \n",
              "21  163268  University of Maryland-Baltimore County     MD     2.0    0.5794   \n",
              "\n",
              "    TUITIONFEE_IN  YEAR  \n",
              "0             NaN  1996  \n",
              "1             NaN  1997  \n",
              "2             NaN  1998  \n",
              "3             NaN  1999  \n",
              "4          5490.0  2000  \n",
              "5          5910.0  2001  \n",
              "6          6362.0  2002  \n",
              "7          7388.0  2003  \n",
              "8          8020.0  2004  \n",
              "9          8520.0  2005  \n",
              "10         8622.0  2006  \n",
              "11         8708.0  2007  \n",
              "12         8780.0  2008  \n",
              "13         8872.0  2009  \n",
              "14         9171.0  2010  \n",
              "15         9467.0  2011  \n",
              "16         9764.0  2012  \n",
              "17        10068.0  2013  \n",
              "18        10384.0  2014  \n",
              "19        11006.0  2015  \n",
              "20        11264.0  2016  \n",
              "21        11778.0  2018  "
            ]
          },
          "metadata": {
            "tags": []
          },
          "execution_count": 88
        }
      ]
    },
    {
      "cell_type": "code",
      "metadata": {
        "id": "d5X87ugp6zLt",
        "outputId": "7c57d6b7-c852-4b74-8704-3868255b407c"
      },
      "source": [
        "# <8>\n",
        "# Explore this UMBC dataframe (# of observations, varibles, head, tail, sample, missing values, statistics,etc.)\n",
        "\n",
        "UMBC.describe()"
      ],
      "execution_count": null,
      "outputs": [
        {
          "output_type": "execute_result",
          "data": {
            "text/html": [
              "<div>\n",
              "<style scoped>\n",
              "    .dataframe tbody tr th:only-of-type {\n",
              "        vertical-align: middle;\n",
              "    }\n",
              "\n",
              "    .dataframe tbody tr th {\n",
              "        vertical-align: top;\n",
              "    }\n",
              "\n",
              "    .dataframe thead th {\n",
              "        text-align: right;\n",
              "    }\n",
              "</style>\n",
              "<table border=\"1\" class=\"dataframe\">\n",
              "  <thead>\n",
              "    <tr style=\"text-align: right;\">\n",
              "      <th></th>\n",
              "      <th>UNITID</th>\n",
              "      <th>REGION</th>\n",
              "      <th>ADM_RATE</th>\n",
              "      <th>TUITIONFEE_IN</th>\n",
              "    </tr>\n",
              "  </thead>\n",
              "  <tbody>\n",
              "    <tr>\n",
              "      <td>count</td>\n",
              "      <td>22.0</td>\n",
              "      <td>22.0</td>\n",
              "      <td>17.000000</td>\n",
              "      <td>18.000000</td>\n",
              "    </tr>\n",
              "    <tr>\n",
              "      <td>mean</td>\n",
              "      <td>163268.0</td>\n",
              "      <td>2.0</td>\n",
              "      <td>0.642965</td>\n",
              "      <td>8865.222222</td>\n",
              "    </tr>\n",
              "    <tr>\n",
              "      <td>std</td>\n",
              "      <td>0.0</td>\n",
              "      <td>0.0</td>\n",
              "      <td>0.053436</td>\n",
              "      <td>1771.285195</td>\n",
              "    </tr>\n",
              "    <tr>\n",
              "      <td>min</td>\n",
              "      <td>163268.0</td>\n",
              "      <td>2.0</td>\n",
              "      <td>0.568300</td>\n",
              "      <td>5490.000000</td>\n",
              "    </tr>\n",
              "    <tr>\n",
              "      <td>25%</td>\n",
              "      <td>163268.0</td>\n",
              "      <td>2.0</td>\n",
              "      <td>0.596100</td>\n",
              "      <td>8145.000000</td>\n",
              "    </tr>\n",
              "    <tr>\n",
              "      <td>50%</td>\n",
              "      <td>163268.0</td>\n",
              "      <td>2.0</td>\n",
              "      <td>0.632700</td>\n",
              "      <td>8826.000000</td>\n",
              "    </tr>\n",
              "    <tr>\n",
              "      <td>75%</td>\n",
              "      <td>163268.0</td>\n",
              "      <td>2.0</td>\n",
              "      <td>0.689500</td>\n",
              "      <td>9992.000000</td>\n",
              "    </tr>\n",
              "    <tr>\n",
              "      <td>max</td>\n",
              "      <td>163268.0</td>\n",
              "      <td>2.0</td>\n",
              "      <td>0.717400</td>\n",
              "      <td>11778.000000</td>\n",
              "    </tr>\n",
              "  </tbody>\n",
              "</table>\n",
              "</div>"
            ],
            "text/plain": [
              "         UNITID  REGION   ADM_RATE  TUITIONFEE_IN\n",
              "count      22.0    22.0  17.000000      18.000000\n",
              "mean   163268.0     2.0   0.642965    8865.222222\n",
              "std         0.0     0.0   0.053436    1771.285195\n",
              "min    163268.0     2.0   0.568300    5490.000000\n",
              "25%    163268.0     2.0   0.596100    8145.000000\n",
              "50%    163268.0     2.0   0.632700    8826.000000\n",
              "75%    163268.0     2.0   0.689500    9992.000000\n",
              "max    163268.0     2.0   0.717400   11778.000000"
            ]
          },
          "metadata": {
            "tags": []
          },
          "execution_count": 13
        }
      ]
    },
    {
      "cell_type": "code",
      "metadata": {
        "id": "oXsjTuslNZxK",
        "outputId": "43120891-2f6e-43a9-ed76-c168042b7755"
      },
      "source": [
        "UMBC.info()"
      ],
      "execution_count": null,
      "outputs": [
        {
          "output_type": "stream",
          "text": [
            "<class 'pandas.core.frame.DataFrame'>\n",
            "Int64Index: 22 entries, 2151 to 150828\n",
            "Data columns (total 7 columns):\n",
            "UNITID           22 non-null int64\n",
            "INSTNM           22 non-null object\n",
            "STABBR           22 non-null object\n",
            "REGION           22 non-null float64\n",
            "ADM_RATE         17 non-null float64\n",
            "TUITIONFEE_IN    18 non-null float64\n",
            "YEAR             22 non-null object\n",
            "dtypes: float64(3), int64(1), object(3)\n",
            "memory usage: 1.4+ KB\n"
          ],
          "name": "stdout"
        }
      ]
    },
    {
      "cell_type": "code",
      "metadata": {
        "id": "TuQzVcpXNZxN",
        "outputId": "22254847-7988-40a1-e68b-b6944e298b59"
      },
      "source": [
        "UMBC.isna().sum()"
      ],
      "execution_count": null,
      "outputs": [
        {
          "output_type": "execute_result",
          "data": {
            "text/plain": [
              "UNITID           0\n",
              "INSTNM           0\n",
              "STABBR           0\n",
              "REGION           0\n",
              "ADM_RATE         5\n",
              "TUITIONFEE_IN    4\n",
              "YEAR             0\n",
              "dtype: int64"
            ]
          },
          "metadata": {
            "tags": []
          },
          "execution_count": 15
        }
      ]
    },
    {
      "cell_type": "code",
      "metadata": {
        "id": "L5szFc76NZxO",
        "outputId": "910f5a20-c1e3-426b-ba01-1378feba88c3"
      },
      "source": [
        "UMBC.head()"
      ],
      "execution_count": null,
      "outputs": [
        {
          "output_type": "execute_result",
          "data": {
            "text/html": [
              "<div>\n",
              "<style scoped>\n",
              "    .dataframe tbody tr th:only-of-type {\n",
              "        vertical-align: middle;\n",
              "    }\n",
              "\n",
              "    .dataframe tbody tr th {\n",
              "        vertical-align: top;\n",
              "    }\n",
              "\n",
              "    .dataframe thead th {\n",
              "        text-align: right;\n",
              "    }\n",
              "</style>\n",
              "<table border=\"1\" class=\"dataframe\">\n",
              "  <thead>\n",
              "    <tr style=\"text-align: right;\">\n",
              "      <th></th>\n",
              "      <th>UNITID</th>\n",
              "      <th>INSTNM</th>\n",
              "      <th>STABBR</th>\n",
              "      <th>REGION</th>\n",
              "      <th>ADM_RATE</th>\n",
              "      <th>TUITIONFEE_IN</th>\n",
              "      <th>YEAR</th>\n",
              "    </tr>\n",
              "  </thead>\n",
              "  <tbody>\n",
              "    <tr>\n",
              "      <td>2151</td>\n",
              "      <td>163268</td>\n",
              "      <td>University of Maryland-Baltimore County</td>\n",
              "      <td>MD</td>\n",
              "      <td>2.0</td>\n",
              "      <td>NaN</td>\n",
              "      <td>NaN</td>\n",
              "      <td>1996</td>\n",
              "    </tr>\n",
              "    <tr>\n",
              "      <td>9056</td>\n",
              "      <td>163268</td>\n",
              "      <td>University of Maryland-Baltimore County</td>\n",
              "      <td>MD</td>\n",
              "      <td>2.0</td>\n",
              "      <td>NaN</td>\n",
              "      <td>NaN</td>\n",
              "      <td>1997</td>\n",
              "    </tr>\n",
              "    <tr>\n",
              "      <td>15923</td>\n",
              "      <td>163268</td>\n",
              "      <td>University of Maryland-Baltimore County</td>\n",
              "      <td>MD</td>\n",
              "      <td>2.0</td>\n",
              "      <td>NaN</td>\n",
              "      <td>NaN</td>\n",
              "      <td>1998</td>\n",
              "    </tr>\n",
              "    <tr>\n",
              "      <td>22598</td>\n",
              "      <td>163268</td>\n",
              "      <td>University of Maryland-Baltimore County</td>\n",
              "      <td>MD</td>\n",
              "      <td>2.0</td>\n",
              "      <td>NaN</td>\n",
              "      <td>NaN</td>\n",
              "      <td>1999</td>\n",
              "    </tr>\n",
              "    <tr>\n",
              "      <td>29178</td>\n",
              "      <td>163268</td>\n",
              "      <td>University of Maryland-Baltimore County</td>\n",
              "      <td>MD</td>\n",
              "      <td>2.0</td>\n",
              "      <td>NaN</td>\n",
              "      <td>5490.0</td>\n",
              "      <td>2000</td>\n",
              "    </tr>\n",
              "  </tbody>\n",
              "</table>\n",
              "</div>"
            ],
            "text/plain": [
              "       UNITID                                   INSTNM STABBR  REGION  \\\n",
              "2151   163268  University of Maryland-Baltimore County     MD     2.0   \n",
              "9056   163268  University of Maryland-Baltimore County     MD     2.0   \n",
              "15923  163268  University of Maryland-Baltimore County     MD     2.0   \n",
              "22598  163268  University of Maryland-Baltimore County     MD     2.0   \n",
              "29178  163268  University of Maryland-Baltimore County     MD     2.0   \n",
              "\n",
              "       ADM_RATE  TUITIONFEE_IN  YEAR  \n",
              "2151        NaN            NaN  1996  \n",
              "9056        NaN            NaN  1997  \n",
              "15923       NaN            NaN  1998  \n",
              "22598       NaN            NaN  1999  \n",
              "29178       NaN         5490.0  2000  "
            ]
          },
          "metadata": {
            "tags": []
          },
          "execution_count": 16
        }
      ]
    },
    {
      "cell_type": "code",
      "metadata": {
        "id": "nGcAK9t6NZxQ",
        "outputId": "758592d2-87cb-4b86-8a3e-648d0e47dc55"
      },
      "source": [
        "UMBC.tail()"
      ],
      "execution_count": null,
      "outputs": [
        {
          "output_type": "execute_result",
          "data": {
            "text/html": [
              "<div>\n",
              "<style scoped>\n",
              "    .dataframe tbody tr th:only-of-type {\n",
              "        vertical-align: middle;\n",
              "    }\n",
              "\n",
              "    .dataframe tbody tr th {\n",
              "        vertical-align: top;\n",
              "    }\n",
              "\n",
              "    .dataframe thead th {\n",
              "        text-align: right;\n",
              "    }\n",
              "</style>\n",
              "<table border=\"1\" class=\"dataframe\">\n",
              "  <thead>\n",
              "    <tr style=\"text-align: right;\">\n",
              "      <th></th>\n",
              "      <th>UNITID</th>\n",
              "      <th>INSTNM</th>\n",
              "      <th>STABBR</th>\n",
              "      <th>REGION</th>\n",
              "      <th>ADM_RATE</th>\n",
              "      <th>TUITIONFEE_IN</th>\n",
              "      <th>YEAR</th>\n",
              "    </tr>\n",
              "  </thead>\n",
              "  <tbody>\n",
              "    <tr>\n",
              "      <td>120503</td>\n",
              "      <td>163268</td>\n",
              "      <td>University of Maryland-Baltimore County</td>\n",
              "      <td>MD</td>\n",
              "      <td>2.0</td>\n",
              "      <td>0.6315</td>\n",
              "      <td>10068.0</td>\n",
              "      <td>2013</td>\n",
              "    </tr>\n",
              "    <tr>\n",
              "      <td>128353</td>\n",
              "      <td>163268</td>\n",
              "      <td>University of Maryland-Baltimore County</td>\n",
              "      <td>MD</td>\n",
              "      <td>2.0</td>\n",
              "      <td>0.5961</td>\n",
              "      <td>10384.0</td>\n",
              "      <td>2014</td>\n",
              "    </tr>\n",
              "    <tr>\n",
              "      <td>136064</td>\n",
              "      <td>163268</td>\n",
              "      <td>University of Maryland-Baltimore County</td>\n",
              "      <td>MD</td>\n",
              "      <td>2.0</td>\n",
              "      <td>0.5942</td>\n",
              "      <td>11006.0</td>\n",
              "      <td>2015</td>\n",
              "    </tr>\n",
              "    <tr>\n",
              "      <td>143685</td>\n",
              "      <td>163268</td>\n",
              "      <td>University of Maryland-Baltimore County</td>\n",
              "      <td>MD</td>\n",
              "      <td>2.0</td>\n",
              "      <td>0.5683</td>\n",
              "      <td>11264.0</td>\n",
              "      <td>2016</td>\n",
              "    </tr>\n",
              "    <tr>\n",
              "      <td>150828</td>\n",
              "      <td>163268</td>\n",
              "      <td>University of Maryland-Baltimore County</td>\n",
              "      <td>MD</td>\n",
              "      <td>2.0</td>\n",
              "      <td>0.5794</td>\n",
              "      <td>11778.0</td>\n",
              "      <td>2018</td>\n",
              "    </tr>\n",
              "  </tbody>\n",
              "</table>\n",
              "</div>"
            ],
            "text/plain": [
              "        UNITID                                   INSTNM STABBR  REGION  \\\n",
              "120503  163268  University of Maryland-Baltimore County     MD     2.0   \n",
              "128353  163268  University of Maryland-Baltimore County     MD     2.0   \n",
              "136064  163268  University of Maryland-Baltimore County     MD     2.0   \n",
              "143685  163268  University of Maryland-Baltimore County     MD     2.0   \n",
              "150828  163268  University of Maryland-Baltimore County     MD     2.0   \n",
              "\n",
              "        ADM_RATE  TUITIONFEE_IN  YEAR  \n",
              "120503    0.6315        10068.0  2013  \n",
              "128353    0.5961        10384.0  2014  \n",
              "136064    0.5942        11006.0  2015  \n",
              "143685    0.5683        11264.0  2016  \n",
              "150828    0.5794        11778.0  2018  "
            ]
          },
          "metadata": {
            "tags": []
          },
          "execution_count": 17
        }
      ]
    },
    {
      "cell_type": "code",
      "metadata": {
        "id": "5Poy4ciz6zLy",
        "outputId": "5d58eb43-f001-411b-c777-c7ef66473ced"
      },
      "source": [
        "# <9> \n",
        "# Plot UMBC's in-state tution overtime from 1996 to 2019 using Bar Chart\n",
        "\n",
        "UMBC[['TUITIONFEE_IN','YEAR']].set_index('YEAR').plot(kind='bar')"
      ],
      "execution_count": null,
      "outputs": [
        {
          "output_type": "execute_result",
          "data": {
            "text/plain": [
              "<matplotlib.axes._subplots.AxesSubplot at 0x250ca56b608>"
            ]
          },
          "metadata": {
            "tags": []
          },
          "execution_count": 18
        },
        {
          "output_type": "display_data",
          "data": {
            "image/png": "[encoded data removed]",
            "text/plain": [
              "<Figure size 432x288 with 1 Axes>"
            ]
          },
          "metadata": {
            "tags": [],
            "needs_background": "light"
          }
        }
      ]
    },
    {
      "cell_type": "code",
      "metadata": {
        "id": "afOQjc1w6zL4",
        "outputId": "e6c11607-e275-478c-b92e-f2fa278363a4"
      },
      "source": [
        "# <10> \n",
        "# Plot UMBC's in-state tution overtime from 1996 to 2019 using Line Chart\n",
        "\n",
        "UMBC[['TUITIONFEE_IN','YEAR']].set_index('YEAR').plot()"
      ],
      "execution_count": null,
      "outputs": [
        {
          "output_type": "execute_result",
          "data": {
            "text/plain": [
              "<matplotlib.axes._subplots.AxesSubplot at 0x250ca042808>"
            ]
          },
          "metadata": {
            "tags": []
          },
          "execution_count": 19
        },
        {
          "output_type": "display_data",
          "data": {
            "image/png": "[encoded data removed]",
            "text/plain": [
              "<Figure size 432x288 with 1 Axes>"
            ]
          },
          "metadata": {
            "tags": [],
            "needs_background": "light"
          }
        }
      ]
    },
    {
      "cell_type": "code",
      "metadata": {
        "id": "xQLB2f7J6zL-"
      },
      "source": [
        "# <11>\n",
        "# Now let's look at the tuition growth rate year over year\n",
        "# We need to calculate UMBC tuition change percentage each year\n",
        "# First convert the TUITIONFEE_IN column to a Python List\n",
        "tn_list=UMBC['TUITIONFEE_IN'].to_list()"
      ],
      "execution_count": null,
      "outputs": []
    },
    {
      "cell_type": "code",
      "metadata": {
        "id": "LRUyQCtJ6zMB",
        "outputId": "e7f7a7c7-ebde-4a92-da9a-d2e0a1a973db"
      },
      "source": [
        "# Loop through the list and calculate the % change each year over the prior year\n",
        "# This takes some effort. Not hard, just some abstract/logical thinking and some experiments\n",
        "# Have fun on this one\n",
        "# The resulting number has many decimal points which are unnecessary and not visually appealing.\n",
        "# Round up the percentage to two decimal points\n",
        "# You can use for loop. Or better, use list comprehension for simplicity/brevity\n",
        "# Add the list of the percentages to the dataframe as a new column (\"PCT_CHANGE\")\n",
        "# Not as hard as you may think. If you get stuck, you think too hard. \n",
        "# Google it and you will find the answer.\n",
        "\n",
        "PCT_CHANGE=[]\n",
        "\n",
        "for i in tn_list:PCT_CHANGE.append(0)\n",
        "    \n",
        "for i in range(len(UMBC)):\n",
        "    if isinstance(tn_list[i], (float))&isinstance(tn_list[i-1], (float)):\n",
        "        pc = ((tn_list[i]-(tn_list[i-1]))/(tn_list[i-1]))*100    \n",
        "        PCT_CHANGE[i]=round(pc,2)\n",
        "    else:\n",
        "        pass\n",
        "    \n",
        "UMBC['PCT_CHANGE']=PCT_CHANGE"
      ],
      "execution_count": null,
      "outputs": [
        {
          "output_type": "execute_result",
          "data": {
            "text/plain": [
              "22"
            ]
          },
          "metadata": {
            "tags": []
          },
          "execution_count": 47
        }
      ]
    },
    {
      "cell_type": "code",
      "metadata": {
        "id": "5Evbjx-g6zMX",
        "outputId": "68d0e81c-dd99-4614-c7ab-43310848df3a"
      },
      "source": [
        "# Finaly, we can make the plot tuition growth rate year over year - bar first, then line chart\n",
        "UMBC[['PCT_CHANGE','YEAR']].set_index('YEAR').plot(kind='bar')"
      ],
      "execution_count": null,
      "outputs": [
        {
          "output_type": "execute_result",
          "data": {
            "text/plain": [
              "<matplotlib.axes._subplots.AxesSubplot at 0x250ca0dc588>"
            ]
          },
          "metadata": {
            "tags": []
          },
          "execution_count": 22
        },
        {
          "output_type": "display_data",
          "data": {
            "image/png": "[encoded data removed]",
            "text/plain": [
              "<Figure size 432x288 with 1 Axes>"
            ]
          },
          "metadata": {
            "tags": [],
            "needs_background": "light"
          }
        }
      ]
    },
    {
      "cell_type": "code",
      "metadata": {
        "id": "yYa1vk4oNZxe",
        "outputId": "67890320-56ee-4828-bfd8-d40134c427d6"
      },
      "source": [
        "UMBC[['PCT_CHANGE','YEAR']].set_index('YEAR').plot()"
      ],
      "execution_count": null,
      "outputs": [
        {
          "output_type": "execute_result",
          "data": {
            "text/plain": [
              "<matplotlib.axes._subplots.AxesSubplot at 0x250ca198c08>"
            ]
          },
          "metadata": {
            "tags": []
          },
          "execution_count": 23
        },
        {
          "output_type": "display_data",
          "data": {
            "image/png": "[encoded data removed]",
            "text/plain": [
              "<Figure size 432x288 with 1 Axes>"
            ]
          },
          "metadata": {
            "tags": [],
            "needs_background": "light"
          }
        }
      ]
    },
    {
      "cell_type": "markdown",
      "metadata": {
        "id": "P4Phl1IhNZxf"
      },
      "source": [
        "#### Alternate approach using pct_change()"
      ]
    },
    {
      "cell_type": "code",
      "metadata": {
        "id": "iMgFWab4NZxg",
        "outputId": "552a7a88-5598-45b9-bddb-8cd2b4c132aa"
      },
      "source": [
        "UMBC['PCT_CHANGE'] = round((UMBC['TUITIONFEE_IN'].pct_change())*100,2)\n",
        "UMBC[['PCT_CHANGE','YEAR']].set_index('YEAR').plot(kind='bar')"
      ],
      "execution_count": null,
      "outputs": [
        {
          "output_type": "execute_result",
          "data": {
            "text/plain": [
              "<matplotlib.axes._subplots.AxesSubplot at 0x250ca2484c8>"
            ]
          },
          "metadata": {
            "tags": []
          },
          "execution_count": 24
        },
        {
          "output_type": "display_data",
          "data": {
            "image/png": "[encoded data removed]",
            "text/plain": [
              "<Figure size 432x288 with 1 Axes>"
            ]
          },
          "metadata": {
            "tags": [],
            "needs_background": "light"
          }
        }
      ]
    },
    {
      "cell_type": "code",
      "metadata": {
        "id": "eCqEe_646zMc"
      },
      "source": [
        "# <12>\n",
        "# Since we want to do the same calculation for JHU. \n",
        "# Instead of doing it piecemeal as we did for UMBC\n",
        "# Let's create a function which can be reused for any college.\n",
        "# This function takes a list of tuitions and return a list of percentage changes year over year\n",
        "# This function can be used later \n",
        "\n",
        "def tuition_pct_change(tn_fee=[]):\n",
        "    PC_CHANGE=[]\n",
        "    for i in tn_fee:PC_CHANGE.append(0)\n",
        "    \n",
        "    for i in range(len(tn_fee)):\n",
        "        if isinstance(tn_fee[i], (float))&isinstance(tn_fee[i-1], (float)):\n",
        "            z = ((tn_fee[i]-(tn_fee[i-1]))/(tn_fee[i-1]))*100    \n",
        "            PC_CHANGE[i]=round(z,2)\n",
        "        else:\n",
        "            pass\n",
        "    PC_CHANGE\n",
        "    return PC_CHANGE"
      ],
      "execution_count": null,
      "outputs": []
    },
    {
      "cell_type": "code",
      "metadata": {
        "id": "f2mhYOjV6zMj",
        "outputId": "c7eca9a0-699a-4ab9-d1f5-dec61076ed31"
      },
      "source": [
        "# <13>\n",
        "# the dataframe contains many years of data of all U.S. colleges.\n",
        "# let's just look at JHU\n",
        "# filter/query the dataframe to retrieve only rows that belong to JHU\n",
        "# save the JHU data to a new data frame. using a new variable \n",
        "# so that the old big data frame is still available for later use.\n",
        "\n",
        "JHU = df.loc[df[\"INSTNM\"]==\"Johns Hopkins University\"]"
      ],
      "execution_count": null,
      "outputs": [
        {
          "output_type": "execute_result",
          "data": {
            "text/plain": [
              "22"
            ]
          },
          "metadata": {
            "tags": []
          },
          "execution_count": 48
        }
      ]
    },
    {
      "cell_type": "code",
      "metadata": {
        "id": "wGXcNTJ46zMo",
        "outputId": "be247f5d-ecaf-47ce-c6a2-319ecfb1095e"
      },
      "source": [
        "# <14> \n",
        "# Plot JHU's in-state tuition overtime from 1996 to 2019. \n",
        "# Let's plot bar and line chart together\n",
        "\n",
        "\n",
        "JHU[['TUITIONFEE_IN','YEAR']].set_index('YEAR').plot(kind='bar')"
      ],
      "execution_count": null,
      "outputs": [
        {
          "output_type": "execute_result",
          "data": {
            "text/plain": [
              "<matplotlib.axes._subplots.AxesSubplot at 0x250ca678cc8>"
            ]
          },
          "metadata": {
            "tags": []
          },
          "execution_count": 40
        },
        {
          "output_type": "display_data",
          "data": {
            "image/png": "[encoded data removed]",
            "text/plain": [
              "<Figure size 432x288 with 1 Axes>"
            ]
          },
          "metadata": {
            "tags": [],
            "needs_background": "light"
          }
        }
      ]
    },
    {
      "cell_type": "code",
      "metadata": {
        "id": "RPXTrsZT6zMx",
        "outputId": "48032efe-1bd5-40bd-d407-f9ee722f83bd"
      },
      "source": [
        "# <15>\n",
        "# Let's calculate the JHU tuition percentge growth using the function defined earlier\n",
        "\n",
        "jt_list=JHU['TUITIONFEE_IN'].to_list()\n",
        "\n",
        "jhu_pct_change = tuition_pct_change(jt_list)\n",
        "\n",
        "jhu_pct_change"
      ],
      "execution_count": null,
      "outputs": [
        {
          "output_type": "execute_result",
          "data": {
            "text/plain": [
              "[nan,\n",
              " nan,\n",
              " nan,\n",
              " nan,\n",
              " nan,\n",
              " 5.13,\n",
              " 4.5,\n",
              " 4.89,\n",
              " 4.91,\n",
              " 4.91,\n",
              " 7.21,\n",
              " 5.9,\n",
              " 5.01,\n",
              " 3.85,\n",
              " 3.91,\n",
              " 3.93,\n",
              " 2.63,\n",
              " 4.79,\n",
              " 3.5,\n",
              " 3.51,\n",
              " 3.49,\n",
              " 6.61]"
            ]
          },
          "metadata": {
            "tags": []
          },
          "execution_count": 53
        }
      ]
    },
    {
      "cell_type": "code",
      "metadata": {
        "id": "7KM74FQH6zM4"
      },
      "source": [
        "# <16>\n",
        "# Add the list of percentage changes to the dataframe as a new column (\"PCT_CHANGE\")\n",
        "\n",
        "JHU['PCT_CHANGE'] = jhu_pct_change"
      ],
      "execution_count": null,
      "outputs": []
    },
    {
      "cell_type": "code",
      "metadata": {
        "id": "vGi8YI_A6zM7",
        "outputId": "6ba6ad69-0789-4b52-cebc-0783031944ba"
      },
      "source": [
        "# <17> Make a bar plot of the JHU percentage changes tuitions over time\n",
        "\n",
        "JHU[['PCT_CHANGE','YEAR']].set_index('YEAR').plot(kind='bar')"
      ],
      "execution_count": null,
      "outputs": [
        {
          "output_type": "execute_result",
          "data": {
            "text/plain": [
              "<matplotlib.axes._subplots.AxesSubplot at 0x250ca76f1c8>"
            ]
          },
          "metadata": {
            "tags": []
          },
          "execution_count": 55
        },
        {
          "output_type": "display_data",
          "data": {
            "image/png": "[encoded data removed]",
            "text/plain": [
              "<Figure size 432x288 with 1 Axes>"
            ]
          },
          "metadata": {
            "tags": [],
            "needs_background": "light"
          }
        }
      ]
    },
    {
      "cell_type": "code",
      "metadata": {
        "id": "bGYYULq16zNA"
      },
      "source": [
        "# <18>\n",
        "# In order to plot both UMBC and JHU tuition change over time in the same plot,\n",
        "# we need to combine the two datasets using the common key of YEAR \n",
        "# First make a umbc2 dataframe with only two columns needed. WE don't need other columns.\n",
        "# Also change the column name from \"PCT_CHANGE\" to \"UMBC_PCT\" in preparation for the merge.\n",
        "# This is because both umbc and jhu dataframe have the same column name \"PCT_CHANGE\",\n",
        "# We rename them to there is no collision during the merge. BTW, Pandas handles collision gracefully,\n",
        "# Feel free to try it without changing the column names.\n",
        "\n",
        "umbc2 = UMBC[['PCT_CHANGE','YEAR']]\n",
        "umbc2 = umbc2.rename(columns={\"PCT_CHANGE\": \"UMBC_PCT\"})"
      ],
      "execution_count": null,
      "outputs": []
    },
    {
      "cell_type": "code",
      "metadata": {
        "id": "DX95nFyG6zNF"
      },
      "source": [
        "# Then make a jhu2 dataframe with only two columns needed. WE don't need other columns.\n",
        "# Also change the column name from \"PCT_CHANGE\" to \"JHU_PCT\"  in preparation for the merge\n",
        "\n",
        "jhu2 = JHU[['PCT_CHANGE','YEAR']]\n",
        "jhu2 = jhu2.rename(columns={\"PCT_CHANGE\": \"JHU_PCT\"})"
      ],
      "execution_count": null,
      "outputs": []
    },
    {
      "cell_type": "code",
      "metadata": {
        "id": "LJ_6wKKU6zNL"
      },
      "source": [
        "# Now, merger the two data frames\n",
        "# and display the new dataframe\n",
        "merged_df = pd.merge(umbc2, jhu2)"
      ],
      "execution_count": null,
      "outputs": []
    },
    {
      "cell_type": "code",
      "metadata": {
        "id": "Ng3bbP076zNW"
      },
      "source": [
        "# Plot UMBC and JHU separately on the same plot \n",
        "# However, this does not work since the bars overlap. "
      ],
      "execution_count": null,
      "outputs": []
    },
    {
      "cell_type": "markdown",
      "metadata": {
        "id": "CqohMNwiNZx0"
      },
      "source": [
        "- It actually worked for me, I am not sure if I made anything wrong"
      ]
    },
    {
      "cell_type": "code",
      "metadata": {
        "id": "gqeDG8Xf6zNg",
        "outputId": "210d7279-97c6-4110-cb2d-c74975a118ba"
      },
      "source": [
        "# Plot them together using y=[\"UMBC_PCT\",\"JHU_PCT\"] option of bar plot\n",
        "\n",
        "merged_df.set_index('YEAR').plot(kind=\"bar\")"
      ],
      "execution_count": null,
      "outputs": [
        {
          "output_type": "execute_result",
          "data": {
            "text/plain": [
              "<matplotlib.axes._subplots.AxesSubplot at 0x250ccb4cb88>"
            ]
          },
          "metadata": {
            "tags": []
          },
          "execution_count": 84
        },
        {
          "output_type": "display_data",
          "data": {
            "image/png": "[encoded data removed]",
            "text/plain": [
              "<Figure size 432x288 with 1 Axes>"
            ]
          },
          "metadata": {
            "tags": [],
            "needs_background": "light"
          }
        }
      ]
    },
    {
      "cell_type": "code",
      "metadata": {
        "id": "uGgmDKrF6zNq",
        "outputId": "34366754-26fa-40e2-aebf-2a2edbb9aa60"
      },
      "source": [
        "# Plot them together using y=[\"UMBC_PCT\",\"JHU_PCT\"] option of line plot\n",
        "\n",
        "merged_df.set_index('YEAR').plot()"
      ],
      "execution_count": null,
      "outputs": [
        {
          "output_type": "execute_result",
          "data": {
            "text/plain": [
              "<matplotlib.axes._subplots.AxesSubplot at 0x250ccc566c8>"
            ]
          },
          "metadata": {
            "tags": []
          },
          "execution_count": 85
        },
        {
          "output_type": "display_data",
          "data": {
            "image/png": "[encoded data removed]",
            "text/plain": [
              "<Figure size 432x288 with 1 Axes>"
            ]
          },
          "metadata": {
            "tags": [],
            "needs_background": "light"
          }
        }
      ]
    },
    {
      "cell_type": "code",
      "metadata": {
        "id": "6YNmMkgW6zNv"
      },
      "source": [
        "# <19> \n",
        "# document your observation/conclusion of the comparison plots (bar/line)\n",
        "# use the following Markdown cell"
      ],
      "execution_count": null,
      "outputs": []
    },
    {
      "cell_type": "markdown",
      "metadata": {
        "id": "tzeP_v8E6zNz"
      },
      "source": [
        "#### Based on my observation of the plots\n",
        "#### We can clearly see that in-state tuition fee have changed drastically in UMBC for years 2001-2005 with 2003 having the highest percentage change till 2019 and 2006-2009 with lowest increase.\n",
        "#### JHU's in-state fee was increased by a regular amount from 2001-2005 and then a sudden increase in 2006. After 2006 it was increased with almost same amount till a sudden increase in 2018\n"
      ]
    },
    {
      "cell_type": "code",
      "metadata": {
        "id": "njPmmLLA6zN0"
      },
      "source": [
        "# The end."
      ],
      "execution_count": null,
      "outputs": []
    }
  ]
}