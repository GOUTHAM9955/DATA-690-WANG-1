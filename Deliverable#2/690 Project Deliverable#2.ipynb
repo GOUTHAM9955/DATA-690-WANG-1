{
 "cells": [
  {
   "cell_type": "markdown",
   "metadata": {},
   "source": [
    "# 690 Project Deliverable#2 \n"
   ]
  },
  {
   "cell_type": "code",
   "execution_count": 1,
   "metadata": {},
   "outputs": [],
   "source": [
    "#Importing all the required libraries\n",
    "import pandas\n",
    "import matplotlib\n",
    "import matplotlib.pyplot as plt\n",
    "import numpy as np"
   ]
  },
  {
   "cell_type": "markdown",
   "metadata": {},
   "source": [
    "# In this project, I have taken the data of a soil health data of 13 Districts in Andhra Pradesh state from India.\n",
    "\n",
    "\n",
    "# From all the columns I am going to use pirticular columns and visualize the data and retreive some useful information from it."
   ]
  },
  {
   "cell_type": "code",
   "execution_count": 2,
   "metadata": {},
   "outputs": [
    {
     "data": {
      "text/html": [
       "<div>\n",
       "<style scoped>\n",
       "    .dataframe tbody tr th:only-of-type {\n",
       "        vertical-align: middle;\n",
       "    }\n",
       "\n",
       "    .dataframe tbody tr th {\n",
       "        vertical-align: top;\n",
       "    }\n",
       "\n",
       "    .dataframe thead th {\n",
       "        text-align: right;\n",
       "    }\n",
       "</style>\n",
       "<table border=\"1\" class=\"dataframe\">\n",
       "  <thead>\n",
       "    <tr style=\"text-align: right;\">\n",
       "      <th></th>\n",
       "      <th>Sl no</th>\n",
       "      <th>Date</th>\n",
       "      <th>Farmer No</th>\n",
       "      <th>Macro/ Micro nutrient</th>\n",
       "      <th>Farmer Name</th>\n",
       "      <th>District</th>\n",
       "      <th>Mandal</th>\n",
       "      <th>Village</th>\n",
       "      <th>Latitude</th>\n",
       "      <th>Longitude</th>\n",
       "      <th>...</th>\n",
       "      <th>Exch-K</th>\n",
       "      <th>Avail-Ca</th>\n",
       "      <th>Avail-Mg</th>\n",
       "      <th>Avail-S</th>\n",
       "      <th>Avail-Zn</th>\n",
       "      <th>Avail-B</th>\n",
       "      <th>Avail-Fe</th>\n",
       "      <th>Avail-Cu</th>\n",
       "      <th>Avail-Mn</th>\n",
       "      <th>Time</th>\n",
       "    </tr>\n",
       "  </thead>\n",
       "  <tbody>\n",
       "    <tr>\n",
       "      <td>0</td>\n",
       "      <td>1</td>\n",
       "      <td>2015-01-01</td>\n",
       "      <td>1910</td>\n",
       "      <td>RK2276</td>\n",
       "      <td>P.Krishna Naik</td>\n",
       "      <td>Anantapur</td>\n",
       "      <td>Penukonda</td>\n",
       "      <td>Gonipeta</td>\n",
       "      <td>14.0819</td>\n",
       "      <td>77.6922</td>\n",
       "      <td>...</td>\n",
       "      <td>41</td>\n",
       "      <td>587</td>\n",
       "      <td>101</td>\n",
       "      <td>5.16</td>\n",
       "      <td>0.30</td>\n",
       "      <td>0.17</td>\n",
       "      <td>8.89</td>\n",
       "      <td>0.51</td>\n",
       "      <td>15.24</td>\n",
       "      <td>2015-01-01</td>\n",
       "    </tr>\n",
       "    <tr>\n",
       "      <td>1</td>\n",
       "      <td>2</td>\n",
       "      <td>2015-01-01</td>\n",
       "      <td>1911</td>\n",
       "      <td>RK2277</td>\n",
       "      <td>Kallu Thippe Naik</td>\n",
       "      <td>Anantapur</td>\n",
       "      <td>Penukonda</td>\n",
       "      <td>Gonipeta</td>\n",
       "      <td>14.0928</td>\n",
       "      <td>77.6858</td>\n",
       "      <td>...</td>\n",
       "      <td>102</td>\n",
       "      <td>811</td>\n",
       "      <td>261</td>\n",
       "      <td>9.91</td>\n",
       "      <td>0.36</td>\n",
       "      <td>0.57</td>\n",
       "      <td>3.24</td>\n",
       "      <td>0.44</td>\n",
       "      <td>6.90</td>\n",
       "      <td>2015-01-01</td>\n",
       "    </tr>\n",
       "    <tr>\n",
       "      <td>2</td>\n",
       "      <td>3</td>\n",
       "      <td>2015-01-01</td>\n",
       "      <td>1912</td>\n",
       "      <td>RK2278</td>\n",
       "      <td>P.Duble Bai</td>\n",
       "      <td>Anantapur</td>\n",
       "      <td>Penukonda</td>\n",
       "      <td>Gonipeta</td>\n",
       "      <td>14.0933</td>\n",
       "      <td>77.6939</td>\n",
       "      <td>...</td>\n",
       "      <td>46</td>\n",
       "      <td>582</td>\n",
       "      <td>48</td>\n",
       "      <td>3.77</td>\n",
       "      <td>0.37</td>\n",
       "      <td>0.19</td>\n",
       "      <td>5.54</td>\n",
       "      <td>0.42</td>\n",
       "      <td>8.34</td>\n",
       "      <td>2015-01-01</td>\n",
       "    </tr>\n",
       "    <tr>\n",
       "      <td>3</td>\n",
       "      <td>4</td>\n",
       "      <td>2015-01-01</td>\n",
       "      <td>1913</td>\n",
       "      <td>RK2279</td>\n",
       "      <td>H.Marekka (Kamma)</td>\n",
       "      <td>Anantapur</td>\n",
       "      <td>Penukonda</td>\n",
       "      <td>Gonipeta</td>\n",
       "      <td>14.0953</td>\n",
       "      <td>77.6961</td>\n",
       "      <td>...</td>\n",
       "      <td>35</td>\n",
       "      <td>3048</td>\n",
       "      <td>52</td>\n",
       "      <td>4.14</td>\n",
       "      <td>0.23</td>\n",
       "      <td>0.21</td>\n",
       "      <td>1.79</td>\n",
       "      <td>0.67</td>\n",
       "      <td>4.17</td>\n",
       "      <td>2015-01-01</td>\n",
       "    </tr>\n",
       "    <tr>\n",
       "      <td>4</td>\n",
       "      <td>5</td>\n",
       "      <td>2015-01-01</td>\n",
       "      <td>1914</td>\n",
       "      <td>RK2280</td>\n",
       "      <td>M.Alevelamma</td>\n",
       "      <td>Anantapur</td>\n",
       "      <td>Penukonda</td>\n",
       "      <td>Gonipeta</td>\n",
       "      <td>14.0856</td>\n",
       "      <td>77.6892</td>\n",
       "      <td>...</td>\n",
       "      <td>76</td>\n",
       "      <td>511</td>\n",
       "      <td>84</td>\n",
       "      <td>1.45</td>\n",
       "      <td>0.36</td>\n",
       "      <td>0.22</td>\n",
       "      <td>22.26</td>\n",
       "      <td>0.45</td>\n",
       "      <td>9.20</td>\n",
       "      <td>2015-01-01</td>\n",
       "    </tr>\n",
       "  </tbody>\n",
       "</table>\n",
       "<p>5 rows × 29 columns</p>\n",
       "</div>"
      ],
      "text/plain": [
       "   Sl no       Date Farmer No Macro/ Micro nutrient        Farmer Name  \\\n",
       "0      1 2015-01-01      1910                RK2276     P.Krishna Naik   \n",
       "1      2 2015-01-01      1911                RK2277  Kallu Thippe Naik   \n",
       "2      3 2015-01-01      1912                RK2278        P.Duble Bai   \n",
       "3      4 2015-01-01      1913                RK2279  H.Marekka (Kamma)   \n",
       "4      5 2015-01-01      1914                RK2280       M.Alevelamma   \n",
       "\n",
       "    District     Mandal   Village  Latitude  Longitude  ... Exch-K Avail-Ca  \\\n",
       "0  Anantapur  Penukonda  Gonipeta   14.0819    77.6922  ...     41      587   \n",
       "1  Anantapur  Penukonda  Gonipeta   14.0928    77.6858  ...    102      811   \n",
       "2  Anantapur  Penukonda  Gonipeta   14.0933    77.6939  ...     46      582   \n",
       "3  Anantapur  Penukonda  Gonipeta   14.0953    77.6961  ...     35     3048   \n",
       "4  Anantapur  Penukonda  Gonipeta   14.0856    77.6892  ...     76      511   \n",
       "\n",
       "  Avail-Mg Avail-S Avail-Zn  Avail-B  Avail-Fe Avail-Cu  Avail-Mn       Time  \n",
       "0      101    5.16     0.30     0.17      8.89     0.51     15.24 2015-01-01  \n",
       "1      261    9.91     0.36     0.57      3.24     0.44      6.90 2015-01-01  \n",
       "2       48    3.77     0.37     0.19      5.54     0.42      8.34 2015-01-01  \n",
       "3       52    4.14     0.23     0.21      1.79     0.67      4.17 2015-01-01  \n",
       "4       84    1.45     0.36     0.22     22.26     0.45      9.20 2015-01-01  \n",
       "\n",
       "[5 rows x 29 columns]"
      ]
     },
     "execution_count": 2,
     "metadata": {},
     "output_type": "execute_result"
    }
   ],
   "source": [
    "#Reading the \"excel\" file and displaying the first five rows of the file\n",
    "dframe = pandas.read_excel(\"AP Primary Sector Farmerwise Soil Health Data of 13 districts.xls\")\n",
    "dframe.head()"
   ]
  },
  {
   "cell_type": "code",
   "execution_count": 3,
   "metadata": {},
   "outputs": [
    {
     "data": {
      "text/plain": [
       "Sl no                             int64\n",
       "Date                     datetime64[ns]\n",
       "Farmer No                        object\n",
       "Macro/ Micro nutrient            object\n",
       "Farmer Name                      object\n",
       "District                         object\n",
       "Mandal                           object\n",
       "Village                          object\n",
       "Latitude                        float64\n",
       "Longitude                       float64\n",
       "Survey No.                       object\n",
       "Soil type                        object\n",
       "Fathers Name                     object\n",
       "Extent\\n(AC)                     object\n",
       "Crop before                      object\n",
       "pH                              float64\n",
       "EC                              float64\n",
       "OC                               object\n",
       "Avail-P                         float64\n",
       "Exch-K                            int64\n",
       "Avail-Ca                          int64\n",
       "Avail-Mg                          int64\n",
       "Avail-S                          object\n",
       "Avail-Zn                        float64\n",
       "Avail-B                          object\n",
       "Avail-Fe                        float64\n",
       "Avail-Cu                        float64\n",
       "Avail-Mn                        float64\n",
       "Time                     datetime64[ns]\n",
       "dtype: object"
      ]
     },
     "execution_count": 3,
     "metadata": {},
     "output_type": "execute_result"
    }
   ],
   "source": [
    "# Checking the data type of each column of the excel file\n",
    "dframe.dtypes"
   ]
  },
  {
   "cell_type": "markdown",
   "metadata": {},
   "source": [
    "\n",
    "# From the above dataset, I am using the columns with header names \"District, pH, EC, Avail-P and Exch-K.\n",
    "\n",
    "# I have opteed for pH and EC as they give much more information about the soil type. From all the elements columns I prefered taking Avail-P and Exch-K as they are primary nutrients for a plant growth.\n",
    " \n",
    "# I will check the values in each column one by one.\n",
    "\n",
    "# In the csv file, I want to sanity check the numerical values for the columns which I am using in the choosen dataset.\n",
    "\n",
    "# By using dataframe.describe , I am gong to check the range and variance in the data."
   ]
  },
  {
   "cell_type": "code",
   "execution_count": 4,
   "metadata": {},
   "outputs": [
    {
     "data": {
      "text/plain": [
       "count    4815.000000\n",
       "mean        7.477844\n",
       "std         1.052134\n",
       "min         4.150000\n",
       "25%         6.740000\n",
       "50%         7.810000\n",
       "75%         8.270000\n",
       "max         9.890000\n",
       "Name: pH, dtype: float64"
      ]
     },
     "execution_count": 4,
     "metadata": {},
     "output_type": "execute_result"
    }
   ],
   "source": [
    "dframe['pH'].describe()"
   ]
  },
  {
   "cell_type": "code",
   "execution_count": 5,
   "metadata": {},
   "outputs": [
    {
     "data": {
      "text/plain": [
       "count    4815.000000\n",
       "mean        0.489531\n",
       "std         1.045581\n",
       "min         0.010000\n",
       "25%         0.110000\n",
       "50%         0.220000\n",
       "75%         0.510000\n",
       "max        27.500000\n",
       "Name: EC, dtype: float64"
      ]
     },
     "execution_count": 5,
     "metadata": {},
     "output_type": "execute_result"
    }
   ],
   "source": [
    "dframe['EC'].describe()\n"
   ]
  },
  {
   "cell_type": "code",
   "execution_count": 6,
   "metadata": {},
   "outputs": [
    {
     "data": {
      "text/plain": [
       "count    4815.000000\n",
       "mean       16.704285\n",
       "std        18.810818\n",
       "min         0.450000\n",
       "25%         5.160000\n",
       "50%        10.930000\n",
       "75%        21.410000\n",
       "max       361.940000\n",
       "Name: Avail-P, dtype: float64"
      ]
     },
     "execution_count": 6,
     "metadata": {},
     "output_type": "execute_result"
    }
   ],
   "source": [
    "dframe['Avail-P'].describe()\n"
   ]
  },
  {
   "cell_type": "code",
   "execution_count": 7,
   "metadata": {},
   "outputs": [
    {
     "data": {
      "text/plain": [
       "count    4815.000000\n",
       "mean      159.676012\n",
       "std       135.616280\n",
       "min        12.000000\n",
       "25%        82.000000\n",
       "50%       129.000000\n",
       "75%       196.000000\n",
       "max      2409.000000\n",
       "Name: Exch-K, dtype: float64"
      ]
     },
     "execution_count": 7,
     "metadata": {},
     "output_type": "execute_result"
    }
   ],
   "source": [
    "dframe['Exch-K'].describe()"
   ]
  },
  {
   "cell_type": "markdown",
   "metadata": {},
   "source": [
    "# From the above outputs, we can figure out that the ranges of all the columns are reliable and the standard deviations of all the columns indicates that the values in the column are having significient variance among them.\n",
    "\n",
    "    "
   ]
  },
  {
   "cell_type": "markdown",
   "metadata": {},
   "source": [
    "# Now I am going to plot the bar graph group by District values in the  X-axis and their mean pH values in the Y-axis.\n",
    "\n",
    "# I am assigning colours to the bar graph based on its value in Y-axis.\n",
    "\n",
    "# I have come to know the pH ranges of different types of soil from the following websites\n",
    "https://www.esf.edu/pubprog/brochure/soilph/soilph.htm\n",
    "\n",
    "https://www.qld.gov.au/environment/land/management/soil/soil-properties/ph-levels"
   ]
  },
  {
   "cell_type": "code",
   "execution_count": 8,
   "metadata": {},
   "outputs": [
    {
     "data": {
      "image/png": "[encoded data removed]",
      "text/plain": [
       "<Figure size 1440x1080 with 1 Axes>"
      ]
     },
     "metadata": {
      "needs_background": "light"
     },
     "output_type": "display_data"
    }
   ],
   "source": [
    "# Group by District column\n",
    "x=(dframe['District'].unique())\n",
    "# Finding the mean of pH values group by District column\n",
    "y=dframe.groupby(['District'])['pH'].mean()\n",
    "# Giving conditions to the pH mean values\n",
    "mask1 = y <= 6.5\n",
    "mask2 = y > 6.5 \n",
    "mask3 = y > 7.3\n",
    "mask4 = y > 7.8\n",
    "# Creating a figure using the variable sub and assigning the dimentons of the figure.\n",
    "f, sub = plt.subplots(figsize=(20,15))\n",
    "# Applying the conditions to give colour to the bar graph based on its value.\n",
    "plt.bar(x[mask1], y[mask1], color = 'red')\n",
    "plt.bar(x[mask2], y[mask2], color = 'blue')\n",
    "plt.bar(x[mask3], y[mask3], color = 'orange')\n",
    "plt.bar(x[mask4], y[mask4], color = 'green')\n",
    "# Labeling the X-axis\n",
    "plt.xlabel(\"Districts\",size=20)\n",
    "# Labeling the Y-axis\n",
    "plt.ylabel(\"pH values\", size=20)\n",
    "# Giving heading to the graph\n",
    "plt.title(\"Districts (vs) Mean of pH values\",size=20)\n",
    "# Writing the text in the graph  to understand the information in the graph clearly\n",
    "plt.text(-1,7,'Colour       Soil Type\\n \\n Red       -   Slightly Acidic\\n Blue      -   Neutral\\n Orange  -   Slghtly Alkaline \\n Green    -   Moderately Alkaline',size=20,)\n",
    "plt.show()"
   ]
  },
  {
   "cell_type": "markdown",
   "metadata": {},
   "source": [
    "# From the above bar graph,we can see check the type of soil (Acidic or Alkaline) based on its mean pH value."
   ]
  },
  {
   "cell_type": "code",
   "execution_count": null,
   "metadata": {},
   "outputs": [],
   "source": []
  }
 ],
 "metadata": {
  "kernelspec": {
   "display_name": "Python 3",
   "language": "python",
   "name": "python3"
  },
  "language_info": {
   "codemirror_mode": {
    "name": "ipython",
    "version": 3
   },
   "file_extension": ".py",
   "mimetype": "text/x-python",
   "name": "python",
   "nbconvert_exporter": "python",
   "pygments_lexer": "ipython3",
   "version": "3.7.4"
  }
 },
 "nbformat": 4,
 "nbformat_minor": 2
}
