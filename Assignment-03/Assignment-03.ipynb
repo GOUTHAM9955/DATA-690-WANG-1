{
  "nbformat": 4,
  "nbformat_minor": 0,
  "metadata": {
    "kernelspec": {
      "display_name": "Python 3",
      "language": "python",
      "name": "python3"
    },
    "language_info": {
      "codemirror_mode": {
        "name": "ipython",
        "version": 3
      },
      "file_extension": ".py",
      "mimetype": "text/x-python",
      "name": "python",
      "nbconvert_exporter": "python",
      "pygments_lexer": "ipython3",
      "version": "3.7.4"
    },
    "colab": {
      "name": "Assignment - 03.ipynb",
      "provenance": [],
      "include_colab_link": true
    }
  },
  "cells": [
    {
      "cell_type": "markdown",
      "metadata": {
        "id": "view-in-github",
        "colab_type": "text"
      },
      "source": [
        "<a href=\"https://colab.research.google.com/github/YM53858/DATA-690-WANG/blob/master/Assignment-03/Assignment-03.ipynb\" target=\"_parent\"><img src=\"https://colab.research.google.com/assets/colab-badge.svg\" alt=\"Open In Colab\"/></a>"
      ]
    },
    {
      "cell_type": "markdown",
      "metadata": {
        "id": "teMl64z47DPM",
        "colab_type": "text"
      },
      "source": [
        "# Assignment 03\n",
        "## The Problem:\n",
        "### Write a program that generates 100 random integers between 0 and 9.\n",
        "- Print them in a 10 by 10 matrix neatly arranged like the following (one space between each number)\n",
        "- If the random number is an odd number, print \"@\" instead. like the following:\n",
        "- Calculate and Print the total of each row like the following (use \"*\" to separate the total from the numbers)\n",
        "- Optional: Surround the matrix with asterisks (*) like the following\n",
        "- Optional (challenging): Calculate and Print the total of each row and column like the following:"
      ]
    },
    {
      "cell_type": "code",
      "metadata": {
        "id": "WQiGcH9f7DPN",
        "colab_type": "code",
        "colab": {}
      },
      "source": [
        "import numpy as np"
      ],
      "execution_count": null,
      "outputs": []
    },
    {
      "cell_type": "code",
      "metadata": {
        "id": "AYUOWrZJ7DPS",
        "colab_type": "code",
        "colab": {}
      },
      "source": [
        "A = np.random.randint(10, size=(10, 10))"
      ],
      "execution_count": null,
      "outputs": []
    },
    {
      "cell_type": "markdown",
      "metadata": {
        "id": "eqUAbH3A7DPY",
        "colab_type": "text"
      },
      "source": [
        "- Print them in a 10 by 10 matrix neatly arranged like the following (one space between each number)"
      ]
    },
    {
      "cell_type": "code",
      "metadata": {
        "id": "CVRhcB3Q7DPa",
        "colab_type": "code",
        "colab": {},
        "outputId": "90523ac2-c65c-4574-d74f-44f54b3bfb94"
      },
      "source": [
        "for row in A:\n",
        "    print(\" \".join(map(str,row)))"
      ],
      "execution_count": null,
      "outputs": [
        {
          "output_type": "stream",
          "text": [
            "5 9 6 9 6 1 1 2 6 4\n",
            "2 0 6 3 0 6 7 4 5 3\n",
            "2 7 5 0 9 4 8 2 6 5\n",
            "5 2 7 8 3 7 4 6 9 4\n",
            "4 0 6 7 8 1 8 9 2 9\n",
            "9 8 4 7 3 4 2 7 4 4\n",
            "6 9 3 4 5 3 8 3 9 5\n",
            "6 0 7 8 6 1 4 3 2 2\n",
            "3 7 2 2 8 8 4 4 3 7\n",
            "4 1 7 6 2 5 9 0 5 6\n"
          ],
          "name": "stdout"
        }
      ]
    },
    {
      "cell_type": "code",
      "metadata": {
        "id": "F6-5r5827DPj",
        "colab_type": "code",
        "colab": {}
      },
      "source": [
        "A1 = np.where(A%2 == 1, '@', A)"
      ],
      "execution_count": null,
      "outputs": []
    },
    {
      "cell_type": "markdown",
      "metadata": {
        "id": "giHIu2i17DPp",
        "colab_type": "text"
      },
      "source": [
        "- If the random number is an odd number, print \"@\" instead. like the following:"
      ]
    },
    {
      "cell_type": "code",
      "metadata": {
        "id": "5mo3D5ot7DPq",
        "colab_type": "code",
        "colab": {},
        "outputId": "8d44943d-02cb-47c9-a4a9-a765357e4428"
      },
      "source": [
        "for row in A1:\n",
        "    print(\" \".join(map(str,row)))"
      ],
      "execution_count": null,
      "outputs": [
        {
          "output_type": "stream",
          "text": [
            "@ @ 6 @ 6 @ @ 2 6 4\n",
            "2 0 6 @ 0 6 @ 4 @ @\n",
            "2 @ @ 0 @ 4 8 2 6 @\n",
            "@ 2 @ 8 @ @ 4 6 @ 4\n",
            "4 0 6 @ 8 @ 8 @ 2 @\n",
            "@ 8 4 @ @ 4 2 @ 4 4\n",
            "6 @ @ 4 @ @ 8 @ @ @\n",
            "6 0 @ 8 6 @ 4 @ 2 2\n",
            "@ @ 2 2 8 8 4 4 @ @\n",
            "4 @ @ 6 2 @ @ 0 @ 6\n"
          ],
          "name": "stdout"
        }
      ]
    },
    {
      "cell_type": "markdown",
      "metadata": {
        "id": "ik0i0qZy7DPx",
        "colab_type": "text"
      },
      "source": [
        "- Calculate and Print the total of each row like the following (use \"*\" to separate the total from the numbers)"
      ]
    },
    {
      "cell_type": "code",
      "metadata": {
        "id": "cgHqtUtC7DPy",
        "colab_type": "code",
        "colab": {},
        "outputId": "4c26721e-b8a0-4696-eb81-9333c9d2e5cb"
      },
      "source": [
        "for row in A:\n",
        "    s=0\n",
        "    for i in row:s+=i\n",
        "    print(\" \".join(map(str,row))+\" * \"+str(s))"
      ],
      "execution_count": null,
      "outputs": [
        {
          "output_type": "stream",
          "text": [
            "5 9 6 9 6 1 1 2 6 4 * 49\n",
            "2 0 6 3 0 6 7 4 5 3 * 36\n",
            "2 7 5 0 9 4 8 2 6 5 * 48\n",
            "5 2 7 8 3 7 4 6 9 4 * 55\n",
            "4 0 6 7 8 1 8 9 2 9 * 54\n",
            "9 8 4 7 3 4 2 7 4 4 * 52\n",
            "6 9 3 4 5 3 8 3 9 5 * 55\n",
            "6 0 7 8 6 1 4 3 2 2 * 39\n",
            "3 7 2 2 8 8 4 4 3 7 * 48\n",
            "4 1 7 6 2 5 9 0 5 6 * 45\n"
          ],
          "name": "stdout"
        }
      ]
    }
  ]
}