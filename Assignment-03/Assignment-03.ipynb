{
  "nbformat": 4,
  "nbformat_minor": 0,
  "metadata": {
    "kernelspec": {
      "display_name": "Python 3",
      "language": "python",
      "name": "python3"
    },
    "language_info": {
      "codemirror_mode": {
        "name": "ipython",
        "version": 3
      },
      "file_extension": ".py",
      "mimetype": "text/x-python",
      "name": "python",
      "nbconvert_exporter": "python",
      "pygments_lexer": "ipython3",
      "version": "3.7.4"
    },
    "colab": {
      "name": "Assignment - 03.ipynb",
      "provenance": [],
      "include_colab_link": true
    }
  },
  "cells": [
    {
      "cell_type": "markdown",
      "metadata": {
        "id": "view-in-github",
        "colab_type": "text"
      },
      "source": [
        "<a href=\"https://colab.research.google.com/github/YM53858/DATA-690-WANG/blob/master/Assignment-03/Assignment-03.ipynb\" target=\"_parent\"><img src=\"https://colab.research.google.com/assets/colab-badge.svg\" alt=\"Open In Colab\"/></a>"
      ]
    },
    {
      "cell_type": "markdown",
      "metadata": {
        "id": "teMl64z47DPM",
        "colab_type": "text"
      },
      "source": [
        "# Assignment 03\n",
        "## The Problem:\n",
        "### Write a program that generates 100 random integers between 0 and 9.\n",
        "- Print them in a 10 by 10 matrix neatly arranged like the following (one space between each number)\n",
        "- If the random number is an odd number, print \"@\" instead. like the following:\n",
        "- Calculate and Print the total of each row like the following (use \"*\" to separate the total from the numbers)\n",
        "- Optional: Surround the matrix with asterisks (*) like the following\n",
        "- Optional (challenging): Calculate and Print the total of each row and column like the following:"
      ]
    },
    {
      "cell_type": "code",
      "metadata": {
        "id": "WQiGcH9f7DPN",
        "colab_type": "code",
        "colab": {}
      },
      "source": [
        "import numpy as np"
      ],
      "execution_count": 16,
      "outputs": []
    },
    {
      "cell_type": "code",
      "metadata": {
        "id": "AYUOWrZJ7DPS",
        "colab_type": "code",
        "colab": {}
      },
      "source": [
        "A = np.random.randint(10, size=(10, 10))"
      ],
      "execution_count": 17,
      "outputs": []
    },
    {
      "cell_type": "markdown",
      "metadata": {
        "id": "eqUAbH3A7DPY",
        "colab_type": "text"
      },
      "source": [
        "- Print them in a 10 by 10 matrix neatly arranged like the following (one space between each number)"
      ]
    },
    {
      "cell_type": "code",
      "metadata": {
        "id": "CVRhcB3Q7DPa",
        "colab_type": "code",
        "colab": {
          "base_uri": "https://localhost:8080/",
          "height": 190
        },
        "outputId": "23e579c8-dafb-45f5-a33a-3365f93fe503"
      },
      "source": [
        "for row in A:\n",
        "    print(\" \".join(map(str,row)))"
      ],
      "execution_count": 18,
      "outputs": [
        {
          "output_type": "stream",
          "text": [
            "3 8 6 5 9 2 5 4 4 3\n",
            "1 6 8 6 5 4 0 5 8 5\n",
            "3 0 7 8 8 3 2 2 0 0\n",
            "7 8 0 1 3 7 9 3 7 5\n",
            "8 5 2 8 1 8 1 0 8 9\n",
            "5 0 6 3 9 0 5 8 1 4\n",
            "4 7 9 8 0 0 6 1 1 2\n",
            "9 6 5 8 9 4 4 7 2 5\n",
            "0 4 0 5 0 8 1 0 8 8\n",
            "8 0 1 6 1 1 6 6 0 4\n"
          ],
          "name": "stdout"
        }
      ]
    },
    {
      "cell_type": "code",
      "metadata": {
        "id": "F6-5r5827DPj",
        "colab_type": "code",
        "colab": {}
      },
      "source": [
        "A1 = np.where(A%2 == 1, '@', A)"
      ],
      "execution_count": 19,
      "outputs": []
    },
    {
      "cell_type": "markdown",
      "metadata": {
        "id": "giHIu2i17DPp",
        "colab_type": "text"
      },
      "source": [
        "- If the random number is an odd number, print \"@\" instead. like the following:"
      ]
    },
    {
      "cell_type": "code",
      "metadata": {
        "id": "5mo3D5ot7DPq",
        "colab_type": "code",
        "colab": {
          "base_uri": "https://localhost:8080/",
          "height": 190
        },
        "outputId": "87fd13c1-6b4d-4399-8925-786a1af4b39f"
      },
      "source": [
        "for row in A1:\n",
        "    print(\" \".join(map(str,row)))"
      ],
      "execution_count": 20,
      "outputs": [
        {
          "output_type": "stream",
          "text": [
            "@ 8 6 @ @ 2 @ 4 4 @\n",
            "@ 6 8 6 @ 4 0 @ 8 @\n",
            "@ 0 @ 8 8 @ 2 2 0 0\n",
            "@ 8 0 @ @ @ @ @ @ @\n",
            "8 @ 2 8 @ 8 @ 0 8 @\n",
            "@ 0 6 @ @ 0 @ 8 @ 4\n",
            "4 @ @ 8 0 0 6 @ @ 2\n",
            "@ 6 @ 8 @ 4 4 @ 2 @\n",
            "0 4 0 @ 0 8 @ 0 8 8\n",
            "8 0 @ 6 @ @ 6 6 0 4\n"
          ],
          "name": "stdout"
        }
      ]
    },
    {
      "cell_type": "markdown",
      "metadata": {
        "id": "ik0i0qZy7DPx",
        "colab_type": "text"
      },
      "source": [
        "- Calculate and Print the total of each row like the following (use \"*\" to separate the total from the numbers)"
      ]
    },
    {
      "cell_type": "code",
      "metadata": {
        "id": "cgHqtUtC7DPy",
        "colab_type": "code",
        "colab": {
          "base_uri": "https://localhost:8080/",
          "height": 190
        },
        "outputId": "9204f19b-9d36-4d69-bb3d-f12fe58c0828"
      },
      "source": [
        "for row in A:\n",
        "    s=0\n",
        "    for i in row:s+=i\n",
        "    print(\" \".join(map(str,row))+\" * \"+str(s))"
      ],
      "execution_count": 21,
      "outputs": [
        {
          "output_type": "stream",
          "text": [
            "3 8 6 5 9 2 5 4 4 3 * 49\n",
            "1 6 8 6 5 4 0 5 8 5 * 48\n",
            "3 0 7 8 8 3 2 2 0 0 * 33\n",
            "7 8 0 1 3 7 9 3 7 5 * 50\n",
            "8 5 2 8 1 8 1 0 8 9 * 50\n",
            "5 0 6 3 9 0 5 8 1 4 * 41\n",
            "4 7 9 8 0 0 6 1 1 2 * 38\n",
            "9 6 5 8 9 4 4 7 2 5 * 59\n",
            "0 4 0 5 0 8 1 0 8 8 * 34\n",
            "8 0 1 6 1 1 6 6 0 4 * 33\n"
          ],
          "name": "stdout"
        }
      ]
    },
    {
      "cell_type": "code",
      "metadata": {
        "id": "Lfj2ZNGxHR1G",
        "colab_type": "code",
        "colab": {}
      },
      "source": [
        ""
      ],
      "execution_count": null,
      "outputs": []
    }
  ]
}